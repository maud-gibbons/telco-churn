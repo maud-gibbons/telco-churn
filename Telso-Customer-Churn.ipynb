{
 "cells": [
  {
   "cell_type": "markdown",
   "metadata": {},
   "source": [
    "# Kaggle: Telco Customer Churn Dataset using TensorFlow Estimators\n",
    "\n",
    "Task: Given the provided dataset, build and evaluate a model for a telco that predicts churn.\n",
    "\n",
    "* Source: https://www.kaggle.com/blastchar/telco-customer-churn\n",
    "\n",
    "* Tutorial: https://www.tensorflow.org/tutorials/estimator/premade"
   ]
  },
  {
   "cell_type": "code",
   "execution_count": 1,
   "metadata": {},
   "outputs": [],
   "source": [
    "import numpy as np\n",
    "import pandas as pd\n",
    "\n",
    "import tensorflow as tf\n",
    "from matplotlib import pyplot as plt\n",
    "import seaborn as sns\n",
    "sns_colors = sns.color_palette('colorblind')\n",
    "\n",
    "from sklearn.model_selection import train_test_split\n",
    "from sklearn.utils import resample\n",
    "from sklearn.metrics import roc_curve\n",
    "\n",
    "from IPython.display import clear_output"
   ]
  },
  {
   "cell_type": "code",
   "execution_count": 2,
   "metadata": {},
   "outputs": [],
   "source": [
    "# Load dataset.\n",
    "csv_file = 'Telco-Customer-Churn.csv'\n",
    "df = pd.read_csv(csv_file)"
   ]
  },
  {
   "cell_type": "markdown",
   "metadata": {},
   "source": [
    "# Step 1: Data cleaning"
   ]
  },
  {
   "cell_type": "markdown",
   "metadata": {},
   "source": [
    "## 1.1 Data overview"
   ]
  },
  {
   "cell_type": "code",
   "execution_count": 3,
   "metadata": {},
   "outputs": [
    {
     "data": {
      "text/html": [
       "<div>\n",
       "<style scoped>\n",
       "    .dataframe tbody tr th:only-of-type {\n",
       "        vertical-align: middle;\n",
       "    }\n",
       "\n",
       "    .dataframe tbody tr th {\n",
       "        vertical-align: top;\n",
       "    }\n",
       "\n",
       "    .dataframe thead th {\n",
       "        text-align: right;\n",
       "    }\n",
       "</style>\n",
       "<table border=\"1\" class=\"dataframe\">\n",
       "  <thead>\n",
       "    <tr style=\"text-align: right;\">\n",
       "      <th></th>\n",
       "      <th>customerID</th>\n",
       "      <th>gender</th>\n",
       "      <th>SeniorCitizen</th>\n",
       "      <th>Partner</th>\n",
       "      <th>Dependents</th>\n",
       "      <th>tenure</th>\n",
       "      <th>PhoneService</th>\n",
       "      <th>MultipleLines</th>\n",
       "      <th>InternetService</th>\n",
       "      <th>OnlineSecurity</th>\n",
       "      <th>...</th>\n",
       "      <th>DeviceProtection</th>\n",
       "      <th>TechSupport</th>\n",
       "      <th>StreamingTV</th>\n",
       "      <th>StreamingMovies</th>\n",
       "      <th>Contract</th>\n",
       "      <th>PaperlessBilling</th>\n",
       "      <th>PaymentMethod</th>\n",
       "      <th>MonthlyCharges</th>\n",
       "      <th>TotalCharges</th>\n",
       "      <th>Churn</th>\n",
       "    </tr>\n",
       "  </thead>\n",
       "  <tbody>\n",
       "    <tr>\n",
       "      <th>0</th>\n",
       "      <td>7590-VHVEG</td>\n",
       "      <td>Female</td>\n",
       "      <td>0</td>\n",
       "      <td>Yes</td>\n",
       "      <td>No</td>\n",
       "      <td>1</td>\n",
       "      <td>No</td>\n",
       "      <td>No phone service</td>\n",
       "      <td>DSL</td>\n",
       "      <td>No</td>\n",
       "      <td>...</td>\n",
       "      <td>No</td>\n",
       "      <td>No</td>\n",
       "      <td>No</td>\n",
       "      <td>No</td>\n",
       "      <td>Month-to-month</td>\n",
       "      <td>Yes</td>\n",
       "      <td>Electronic check</td>\n",
       "      <td>29.85</td>\n",
       "      <td>29.85</td>\n",
       "      <td>No</td>\n",
       "    </tr>\n",
       "    <tr>\n",
       "      <th>1</th>\n",
       "      <td>5575-GNVDE</td>\n",
       "      <td>Male</td>\n",
       "      <td>0</td>\n",
       "      <td>No</td>\n",
       "      <td>No</td>\n",
       "      <td>34</td>\n",
       "      <td>Yes</td>\n",
       "      <td>No</td>\n",
       "      <td>DSL</td>\n",
       "      <td>Yes</td>\n",
       "      <td>...</td>\n",
       "      <td>Yes</td>\n",
       "      <td>No</td>\n",
       "      <td>No</td>\n",
       "      <td>No</td>\n",
       "      <td>One year</td>\n",
       "      <td>No</td>\n",
       "      <td>Mailed check</td>\n",
       "      <td>56.95</td>\n",
       "      <td>1889.5</td>\n",
       "      <td>No</td>\n",
       "    </tr>\n",
       "    <tr>\n",
       "      <th>2</th>\n",
       "      <td>3668-QPYBK</td>\n",
       "      <td>Male</td>\n",
       "      <td>0</td>\n",
       "      <td>No</td>\n",
       "      <td>No</td>\n",
       "      <td>2</td>\n",
       "      <td>Yes</td>\n",
       "      <td>No</td>\n",
       "      <td>DSL</td>\n",
       "      <td>Yes</td>\n",
       "      <td>...</td>\n",
       "      <td>No</td>\n",
       "      <td>No</td>\n",
       "      <td>No</td>\n",
       "      <td>No</td>\n",
       "      <td>Month-to-month</td>\n",
       "      <td>Yes</td>\n",
       "      <td>Mailed check</td>\n",
       "      <td>53.85</td>\n",
       "      <td>108.15</td>\n",
       "      <td>Yes</td>\n",
       "    </tr>\n",
       "    <tr>\n",
       "      <th>3</th>\n",
       "      <td>7795-CFOCW</td>\n",
       "      <td>Male</td>\n",
       "      <td>0</td>\n",
       "      <td>No</td>\n",
       "      <td>No</td>\n",
       "      <td>45</td>\n",
       "      <td>No</td>\n",
       "      <td>No phone service</td>\n",
       "      <td>DSL</td>\n",
       "      <td>Yes</td>\n",
       "      <td>...</td>\n",
       "      <td>Yes</td>\n",
       "      <td>Yes</td>\n",
       "      <td>No</td>\n",
       "      <td>No</td>\n",
       "      <td>One year</td>\n",
       "      <td>No</td>\n",
       "      <td>Bank transfer (automatic)</td>\n",
       "      <td>42.30</td>\n",
       "      <td>1840.75</td>\n",
       "      <td>No</td>\n",
       "    </tr>\n",
       "    <tr>\n",
       "      <th>4</th>\n",
       "      <td>9237-HQITU</td>\n",
       "      <td>Female</td>\n",
       "      <td>0</td>\n",
       "      <td>No</td>\n",
       "      <td>No</td>\n",
       "      <td>2</td>\n",
       "      <td>Yes</td>\n",
       "      <td>No</td>\n",
       "      <td>Fiber optic</td>\n",
       "      <td>No</td>\n",
       "      <td>...</td>\n",
       "      <td>No</td>\n",
       "      <td>No</td>\n",
       "      <td>No</td>\n",
       "      <td>No</td>\n",
       "      <td>Month-to-month</td>\n",
       "      <td>Yes</td>\n",
       "      <td>Electronic check</td>\n",
       "      <td>70.70</td>\n",
       "      <td>151.65</td>\n",
       "      <td>Yes</td>\n",
       "    </tr>\n",
       "  </tbody>\n",
       "</table>\n",
       "<p>5 rows × 21 columns</p>\n",
       "</div>"
      ],
      "text/plain": [
       "   customerID  gender  SeniorCitizen Partner Dependents  tenure PhoneService  \\\n",
       "0  7590-VHVEG  Female              0     Yes         No       1           No   \n",
       "1  5575-GNVDE    Male              0      No         No      34          Yes   \n",
       "2  3668-QPYBK    Male              0      No         No       2          Yes   \n",
       "3  7795-CFOCW    Male              0      No         No      45           No   \n",
       "4  9237-HQITU  Female              0      No         No       2          Yes   \n",
       "\n",
       "      MultipleLines InternetService OnlineSecurity  ... DeviceProtection  \\\n",
       "0  No phone service             DSL             No  ...               No   \n",
       "1                No             DSL            Yes  ...              Yes   \n",
       "2                No             DSL            Yes  ...               No   \n",
       "3  No phone service             DSL            Yes  ...              Yes   \n",
       "4                No     Fiber optic             No  ...               No   \n",
       "\n",
       "  TechSupport StreamingTV StreamingMovies        Contract PaperlessBilling  \\\n",
       "0          No          No              No  Month-to-month              Yes   \n",
       "1          No          No              No        One year               No   \n",
       "2          No          No              No  Month-to-month              Yes   \n",
       "3         Yes          No              No        One year               No   \n",
       "4          No          No              No  Month-to-month              Yes   \n",
       "\n",
       "               PaymentMethod MonthlyCharges  TotalCharges Churn  \n",
       "0           Electronic check          29.85         29.85    No  \n",
       "1               Mailed check          56.95        1889.5    No  \n",
       "2               Mailed check          53.85        108.15   Yes  \n",
       "3  Bank transfer (automatic)          42.30       1840.75    No  \n",
       "4           Electronic check          70.70        151.65   Yes  \n",
       "\n",
       "[5 rows x 21 columns]"
      ]
     },
     "execution_count": 3,
     "metadata": {},
     "output_type": "execute_result"
    }
   ],
   "source": [
    "df.head()"
   ]
  },
  {
   "cell_type": "code",
   "execution_count": 4,
   "metadata": {},
   "outputs": [
    {
     "data": {
      "text/plain": [
       "(7043, 21)"
      ]
     },
     "execution_count": 4,
     "metadata": {},
     "output_type": "execute_result"
    }
   ],
   "source": [
    "# Number of rows and columns\n",
    "df.shape"
   ]
  },
  {
   "cell_type": "markdown",
   "metadata": {},
   "source": [
    "## 1.2 Duplicate data\n",
    "In this dataset, it is reasonable to expect that two customers could have the same feature set. Therefore, duplicate data in this case would only be repeated customer ids. Since there are the same number of unique ids as rows, there are no duplicates. "
   ]
  },
  {
   "cell_type": "code",
   "execution_count": 5,
   "metadata": {},
   "outputs": [
    {
     "data": {
      "text/plain": [
       "7043"
      ]
     },
     "execution_count": 5,
     "metadata": {},
     "output_type": "execute_result"
    }
   ],
   "source": [
    "len(df['customerID'].unique())"
   ]
  },
  {
   "cell_type": "markdown",
   "metadata": {},
   "source": [
    "## 1.3 Missing values\n",
    "TotalCharges contains some missing values. These are found and replaced with a null value using a regex function. "
   ]
  },
  {
   "cell_type": "code",
   "execution_count": 6,
   "metadata": {},
   "outputs": [
    {
     "data": {
      "text/plain": [
       "11"
      ]
     },
     "execution_count": 6,
     "metadata": {},
     "output_type": "execute_result"
    }
   ],
   "source": [
    "df['TotalCharges'].replace(r'^\\s*$', np.nan, regex=True).isnull().sum()"
   ]
  },
  {
   "cell_type": "markdown",
   "metadata": {},
   "source": [
    "Normally, you would fill the empty values with the feature median value. However, in this dataset each null value corresponds to a tenure of zero. The data in TotalCharges is not missing but erroneously recorded. "
   ]
  },
  {
   "cell_type": "code",
   "execution_count": 7,
   "metadata": {},
   "outputs": [
    {
     "data": {
      "text/plain": [
       "Series([], Name: tenure, dtype: int64)"
      ]
     },
     "execution_count": 7,
     "metadata": {},
     "output_type": "execute_result"
    }
   ],
   "source": [
    "df[df['TotalCharges'].isnull() == True]['tenure']"
   ]
  },
  {
   "cell_type": "code",
   "execution_count": 8,
   "metadata": {},
   "outputs": [],
   "source": [
    "# The empty spaces are be filled with 0.0.  \n",
    "df['TotalCharges'] = df['TotalCharges'].replace(r'^\\s*$', np.nan, regex=True).fillna(0.0)\n",
    "# Correct the column datatype\n",
    "df['TotalCharges'] = df['TotalCharges'].astype('float64')"
   ]
  },
  {
   "cell_type": "markdown",
   "metadata": {},
   "source": [
    "# Step 2: Data Exploration\n",
    "Plotting the raw features against the traget features (churn) to get a first impression of the dataset. \n",
    "## 2.1 Customer demographics"
   ]
  },
  {
   "cell_type": "code",
   "execution_count": 9,
   "metadata": {},
   "outputs": [],
   "source": [
    "# Function to generate subplots from categorial feature list\n",
    "def plot_features_bar(flist,target):\n",
    "    # Define space around sublots\n",
    "    plt.subplots_adjust(wspace = 0.5)\n",
    "    plt.subplots_adjust(hspace = 0.5)\n",
    "    \n",
    "    i = 0\n",
    "    for ax in axes.flatten():\n",
    "        # Group by feature column and target for each subplot\n",
    "        data = df.groupby([flist[i],target]).size().to_frame('occurences').reset_index()\n",
    "        sns.barplot(x=flist[i], y='occurences', hue=target, data=data, ax=ax)\n",
    "        i = i+1\n",
    "        \n",
    "def plot_features_line(flist,target):\n",
    "    # Define space around sublots\n",
    "    plt.subplots_adjust(wspace = 0.5)\n",
    "    plt.subplots_adjust(hspace = 0.5)\n",
    "    \n",
    "    i = 0\n",
    "    for ax in axes.flatten():\n",
    "        # Group by feature column and target for each subplot\n",
    "        data = df.groupby([flist[i],target]).size().to_frame('occurences').reset_index()\n",
    "        sns.lineplot(x=flist[i], y='occurences', hue=target, data=data, ax=ax)\n",
    "        i = i+1"
   ]
  },
  {
   "cell_type": "code",
   "execution_count": 10,
   "metadata": {},
   "outputs": [
    {
     "data": {
      "image/png": "[encoded data removed]",
      "text/plain": [
       "<Figure size 720x432 with 4 Axes>"
      ]
     },
     "metadata": {
      "needs_background": "light"
     },
     "output_type": "display_data"
    }
   ],
   "source": [
    "target = 'Churn'\n",
    "demographics = ['gender','SeniorCitizen', 'Partner','Dependents']\n",
    "\n",
    "f, axes = plt.subplots(2, 2, figsize=(10,6))       \n",
    "plot_features_bar(demographics,target)"
   ]
  },
  {
   "cell_type": "markdown",
   "metadata": {},
   "source": [
    "### Insights\n",
    "1. There are an equal number of males and females, and they have an equal chance of churning. This is clearly not a predictive feature for the model. \n",
    "2. A customer is more less to churn if they have a partner, and less likely again if they have dependents. Families have lower chance of churning than the general public."
   ]
  },
  {
   "cell_type": "markdown",
   "metadata": {},
   "source": [
    "## 2.2 Customer services"
   ]
  },
  {
   "cell_type": "code",
   "execution_count": 11,
   "metadata": {},
   "outputs": [
    {
     "data": {
      "image/png": "[encoded data removed]",
      "text/plain": [
       "<Figure size 1152x720 with 9 Axes>"
      ]
     },
     "metadata": {
      "needs_background": "light"
     },
     "output_type": "display_data"
    }
   ],
   "source": [
    "services = ['PhoneService', 'MultipleLines', 'InternetService',\n",
    "            'OnlineSecurity', 'OnlineBackup', 'DeviceProtection',\n",
    "            'TechSupport', 'StreamingTV', 'StreamingMovies']\n",
    "\n",
    "f, axes = plt.subplots(3, 3, figsize=(16,10))    \n",
    "plot_features_bar(services,target)"
   ]
  },
  {
   "cell_type": "markdown",
   "metadata": {},
   "source": [
    "### Insights\n",
    "1. The churn rate for customers with the Fiber optic Internet Service option is far higher than that of the DSL and No Internet Service customers. \n",
    "2. The subscribtion services with the highest rate of customer churn are StreamingTV and StreamingMovies. OnlineSecurity and TechSupport subscribed users have a low instance of churn.\n",
    "\n",
    "=> These services with high churn may be suffering from customer dissatisfaction. "
   ]
  },
  {
   "cell_type": "markdown",
   "metadata": {},
   "source": [
    "## 2.3 Customer accounts"
   ]
  },
  {
   "cell_type": "code",
   "execution_count": 12,
   "metadata": {},
   "outputs": [
    {
     "data": {
      "image/png": "[encoded data removed]",
      "text/plain": [
       "<Figure size 1152x216 with 3 Axes>"
      ]
     },
     "metadata": {
      "needs_background": "light"
     },
     "output_type": "display_data"
    }
   ],
   "source": [
    "accounts = ['Contract', 'PaperlessBilling','PaymentMethod']\n",
    "\n",
    "f, axes = plt.subplots(1, 3, figsize=(16,3))  \n",
    "#rotating the labels for the last subplot\n",
    "plt.tick_params(axis='x',labelrotation=310)\n",
    "plot_features_bar(accounts,target)"
   ]
  },
  {
   "cell_type": "code",
   "execution_count": 13,
   "metadata": {},
   "outputs": [
    {
     "data": {
      "image/png": "[encoded data removed]",
      "text/plain": [
       "<Figure size 1152x432 with 2 Axes>"
      ]
     },
     "metadata": {
      "needs_background": "light"
     },
     "output_type": "display_data"
    }
   ],
   "source": [
    "f, axes = plt.subplots(2, 1, figsize=(16,6))\n",
    "#axes.axis(xmin=0,xmax=2000)\n",
    "accounts_cont = ['tenure','MonthlyCharges']\n",
    "plot_features_line(accounts_cont,target)"
   ]
  },
  {
   "cell_type": "markdown",
   "metadata": {},
   "source": [
    "## Insights\n",
    "1. Most customers are on a month-to-month contract. Customers on this contract are far more likely to churn than those on the one/two year contracts. This should be a stong predictor of churn.\n",
    "2. Customers who use PaperlessBilling and pay for their subscriptions using Electronic checks have higher instances of churn. This could be an indication that more tech savvy customers are more likely to churn.\n",
    "3. The longer an individual has been a customer the less likely they are to churn. \n",
    "4. Customers with very low monthly charges have fewer instances of churn.\n",
    "\n",
    "=> Promoting customers to purchase one/two year contracts would reduce the churn prediction, but this may not address any underlying service issues that could be driving churn.\n",
    "\n",
    "=> Churn prevention measures could be focused on new customers."
   ]
  },
  {
   "cell_type": "markdown",
   "metadata": {},
   "source": [
    "# Step 3: Data preparation"
   ]
  },
  {
   "cell_type": "markdown",
   "metadata": {},
   "source": [
    "## 3.1 Normalisation\n",
    "The columns tenure, MonthlyCharges, and TotalCharges are continuous numeric features and should be normalised in order to lessen the impact of outlier data points on the model. Z-Score normalisation is the typical method used."
   ]
  },
  {
   "cell_type": "code",
   "execution_count": 14,
   "metadata": {},
   "outputs": [
    {
     "data": {
      "text/html": [
       "<div>\n",
       "<style scoped>\n",
       "    .dataframe tbody tr th:only-of-type {\n",
       "        vertical-align: middle;\n",
       "    }\n",
       "\n",
       "    .dataframe tbody tr th {\n",
       "        vertical-align: top;\n",
       "    }\n",
       "\n",
       "    .dataframe thead th {\n",
       "        text-align: right;\n",
       "    }\n",
       "</style>\n",
       "<table border=\"1\" class=\"dataframe\">\n",
       "  <thead>\n",
       "    <tr style=\"text-align: right;\">\n",
       "      <th></th>\n",
       "      <th>tenure</th>\n",
       "      <th>MonthlyCharges</th>\n",
       "      <th>TotalCharges</th>\n",
       "    </tr>\n",
       "  </thead>\n",
       "  <tbody>\n",
       "    <tr>\n",
       "      <th>count</th>\n",
       "      <td>7043.000000</td>\n",
       "      <td>7043.000000</td>\n",
       "      <td>7043.000000</td>\n",
       "    </tr>\n",
       "    <tr>\n",
       "      <th>mean</th>\n",
       "      <td>32.371149</td>\n",
       "      <td>64.761692</td>\n",
       "      <td>2279.734304</td>\n",
       "    </tr>\n",
       "    <tr>\n",
       "      <th>std</th>\n",
       "      <td>24.559481</td>\n",
       "      <td>30.090047</td>\n",
       "      <td>2266.794470</td>\n",
       "    </tr>\n",
       "    <tr>\n",
       "      <th>min</th>\n",
       "      <td>0.000000</td>\n",
       "      <td>18.250000</td>\n",
       "      <td>0.000000</td>\n",
       "    </tr>\n",
       "    <tr>\n",
       "      <th>25%</th>\n",
       "      <td>9.000000</td>\n",
       "      <td>35.500000</td>\n",
       "      <td>398.550000</td>\n",
       "    </tr>\n",
       "    <tr>\n",
       "      <th>50%</th>\n",
       "      <td>29.000000</td>\n",
       "      <td>70.350000</td>\n",
       "      <td>1394.550000</td>\n",
       "    </tr>\n",
       "    <tr>\n",
       "      <th>75%</th>\n",
       "      <td>55.000000</td>\n",
       "      <td>89.850000</td>\n",
       "      <td>3786.600000</td>\n",
       "    </tr>\n",
       "    <tr>\n",
       "      <th>max</th>\n",
       "      <td>72.000000</td>\n",
       "      <td>118.750000</td>\n",
       "      <td>8684.800000</td>\n",
       "    </tr>\n",
       "  </tbody>\n",
       "</table>\n",
       "</div>"
      ],
      "text/plain": [
       "            tenure  MonthlyCharges  TotalCharges\n",
       "count  7043.000000     7043.000000   7043.000000\n",
       "mean     32.371149       64.761692   2279.734304\n",
       "std      24.559481       30.090047   2266.794470\n",
       "min       0.000000       18.250000      0.000000\n",
       "25%       9.000000       35.500000    398.550000\n",
       "50%      29.000000       70.350000   1394.550000\n",
       "75%      55.000000       89.850000   3786.600000\n",
       "max      72.000000      118.750000   8684.800000"
      ]
     },
     "execution_count": 14,
     "metadata": {},
     "output_type": "execute_result"
    }
   ],
   "source": [
    "norm_features = ['tenure','MonthlyCharges','TotalCharges']\n",
    "df[norm_features].describe()"
   ]
  },
  {
   "cell_type": "markdown",
   "metadata": {},
   "source": [
    "The general method of calculation is to determine the distribution mean and standard deviation for each feature. Next we subtract the mean from each feature. Then we divide the values (mean is already subtracted) of each feature by its standard deviation. "
   ]
  },
  {
   "cell_type": "code",
   "execution_count": 15,
   "metadata": {},
   "outputs": [
    {
     "data": {
      "text/html": [
       "<div>\n",
       "<style scoped>\n",
       "    .dataframe tbody tr th:only-of-type {\n",
       "        vertical-align: middle;\n",
       "    }\n",
       "\n",
       "    .dataframe tbody tr th {\n",
       "        vertical-align: top;\n",
       "    }\n",
       "\n",
       "    .dataframe thead th {\n",
       "        text-align: right;\n",
       "    }\n",
       "</style>\n",
       "<table border=\"1\" class=\"dataframe\">\n",
       "  <thead>\n",
       "    <tr style=\"text-align: right;\">\n",
       "      <th></th>\n",
       "      <th>tenure</th>\n",
       "      <th>MonthlyCharges</th>\n",
       "      <th>TotalCharges</th>\n",
       "    </tr>\n",
       "  </thead>\n",
       "  <tbody>\n",
       "    <tr>\n",
       "      <th>0</th>\n",
       "      <td>-1.277354</td>\n",
       "      <td>-1.160241</td>\n",
       "      <td>-0.992540</td>\n",
       "    </tr>\n",
       "    <tr>\n",
       "      <th>1</th>\n",
       "      <td>0.066323</td>\n",
       "      <td>-0.259611</td>\n",
       "      <td>-0.172152</td>\n",
       "    </tr>\n",
       "    <tr>\n",
       "      <th>2</th>\n",
       "      <td>-1.236636</td>\n",
       "      <td>-0.362635</td>\n",
       "      <td>-0.957998</td>\n",
       "    </tr>\n",
       "    <tr>\n",
       "      <th>3</th>\n",
       "      <td>0.514215</td>\n",
       "      <td>-0.746482</td>\n",
       "      <td>-0.193659</td>\n",
       "    </tr>\n",
       "    <tr>\n",
       "      <th>4</th>\n",
       "      <td>-1.236636</td>\n",
       "      <td>0.197351</td>\n",
       "      <td>-0.938808</td>\n",
       "    </tr>\n",
       "    <tr>\n",
       "      <th>...</th>\n",
       "      <td>...</td>\n",
       "      <td>...</td>\n",
       "      <td>...</td>\n",
       "    </tr>\n",
       "    <tr>\n",
       "      <th>7038</th>\n",
       "      <td>-0.340852</td>\n",
       "      <td>0.665945</td>\n",
       "      <td>-0.127596</td>\n",
       "    </tr>\n",
       "    <tr>\n",
       "      <th>7039</th>\n",
       "      <td>1.613587</td>\n",
       "      <td>1.277443</td>\n",
       "      <td>2.242447</td>\n",
       "    </tr>\n",
       "    <tr>\n",
       "      <th>7040</th>\n",
       "      <td>-0.870179</td>\n",
       "      <td>-1.168549</td>\n",
       "      <td>-0.852871</td>\n",
       "    </tr>\n",
       "    <tr>\n",
       "      <th>7041</th>\n",
       "      <td>-1.155201</td>\n",
       "      <td>0.320315</td>\n",
       "      <td>-0.870451</td>\n",
       "    </tr>\n",
       "    <tr>\n",
       "      <th>7042</th>\n",
       "      <td>1.369282</td>\n",
       "      <td>1.358865</td>\n",
       "      <td>2.013754</td>\n",
       "    </tr>\n",
       "  </tbody>\n",
       "</table>\n",
       "<p>7043 rows × 3 columns</p>\n",
       "</div>"
      ],
      "text/plain": [
       "        tenure  MonthlyCharges  TotalCharges\n",
       "0    -1.277354       -1.160241     -0.992540\n",
       "1     0.066323       -0.259611     -0.172152\n",
       "2    -1.236636       -0.362635     -0.957998\n",
       "3     0.514215       -0.746482     -0.193659\n",
       "4    -1.236636        0.197351     -0.938808\n",
       "...        ...             ...           ...\n",
       "7038 -0.340852        0.665945     -0.127596\n",
       "7039  1.613587        1.277443      2.242447\n",
       "7040 -0.870179       -1.168549     -0.852871\n",
       "7041 -1.155201        0.320315     -0.870451\n",
       "7042  1.369282        1.358865      2.013754\n",
       "\n",
       "[7043 rows x 3 columns]"
      ]
     },
     "execution_count": 15,
     "metadata": {},
     "output_type": "execute_result"
    }
   ],
   "source": [
    "for feature in norm_features:\n",
    "    df[feature] = (df[feature] - df[feature].mean()) / df[feature].std()\n",
    "    \n",
    "df[norm_features]"
   ]
  },
  {
   "cell_type": "markdown",
   "metadata": {},
   "source": [
    "## 3.2 Redundant data & Datatype conversions\n",
    "A number of features in the dataset contain, what appear to me to be, redundant categories. There appears to be little difference between the category labels 'No' and 'No phone/internet service', the additional information can be derived, and therefore should be combined. This will reduce the complexity of the feature. Furthermore, because there are fewer instances of 'No phone/internet service' the feature harder to learn by the model accurately."
   ]
  },
  {
   "cell_type": "markdown",
   "metadata": {},
   "source": [
    "# Step 2: Data preparation"
   ]
  },
  {
   "cell_type": "code",
   "execution_count": 16,
   "metadata": {},
   "outputs": [
    {
     "data": {
      "text/plain": [
       "No                  3390\n",
       "Yes                 2971\n",
       "No phone service     682\n",
       "Name: MultipleLines, dtype: int64"
      ]
     },
     "execution_count": 16,
     "metadata": {},
     "output_type": "execute_result"
    }
   ],
   "source": [
    "df['MultipleLines'].value_counts()"
   ]
  },
  {
   "cell_type": "code",
   "execution_count": 17,
   "metadata": {},
   "outputs": [
    {
     "data": {
      "text/html": [
       "<div>\n",
       "<style scoped>\n",
       "    .dataframe tbody tr th:only-of-type {\n",
       "        vertical-align: middle;\n",
       "    }\n",
       "\n",
       "    .dataframe tbody tr th {\n",
       "        vertical-align: top;\n",
       "    }\n",
       "\n",
       "    .dataframe thead th {\n",
       "        text-align: right;\n",
       "    }\n",
       "</style>\n",
       "<table border=\"1\" class=\"dataframe\">\n",
       "  <thead>\n",
       "    <tr style=\"text-align: right;\">\n",
       "      <th></th>\n",
       "      <th>customerID</th>\n",
       "      <th>gender</th>\n",
       "      <th>SeniorCitizen</th>\n",
       "      <th>Partner</th>\n",
       "      <th>Dependents</th>\n",
       "      <th>tenure</th>\n",
       "      <th>PhoneService</th>\n",
       "      <th>MultipleLines</th>\n",
       "      <th>InternetService</th>\n",
       "      <th>OnlineSecurity</th>\n",
       "      <th>...</th>\n",
       "      <th>DeviceProtection</th>\n",
       "      <th>TechSupport</th>\n",
       "      <th>StreamingTV</th>\n",
       "      <th>StreamingMovies</th>\n",
       "      <th>Contract</th>\n",
       "      <th>PaperlessBilling</th>\n",
       "      <th>PaymentMethod</th>\n",
       "      <th>MonthlyCharges</th>\n",
       "      <th>TotalCharges</th>\n",
       "      <th>Churn</th>\n",
       "    </tr>\n",
       "  </thead>\n",
       "  <tbody>\n",
       "    <tr>\n",
       "      <th>0</th>\n",
       "      <td>7590-VHVEG</td>\n",
       "      <td>Female</td>\n",
       "      <td>0</td>\n",
       "      <td>Yes</td>\n",
       "      <td>No</td>\n",
       "      <td>-1.277354</td>\n",
       "      <td>No</td>\n",
       "      <td>No phone service</td>\n",
       "      <td>DSL</td>\n",
       "      <td>No</td>\n",
       "      <td>...</td>\n",
       "      <td>No</td>\n",
       "      <td>No</td>\n",
       "      <td>No</td>\n",
       "      <td>No</td>\n",
       "      <td>Month-to-month</td>\n",
       "      <td>Yes</td>\n",
       "      <td>Electronic check</td>\n",
       "      <td>-1.160241</td>\n",
       "      <td>-0.992540</td>\n",
       "      <td>No</td>\n",
       "    </tr>\n",
       "    <tr>\n",
       "      <th>1</th>\n",
       "      <td>5575-GNVDE</td>\n",
       "      <td>Male</td>\n",
       "      <td>0</td>\n",
       "      <td>No</td>\n",
       "      <td>No</td>\n",
       "      <td>0.066323</td>\n",
       "      <td>Yes</td>\n",
       "      <td>No</td>\n",
       "      <td>DSL</td>\n",
       "      <td>Yes</td>\n",
       "      <td>...</td>\n",
       "      <td>Yes</td>\n",
       "      <td>No</td>\n",
       "      <td>No</td>\n",
       "      <td>No</td>\n",
       "      <td>One year</td>\n",
       "      <td>No</td>\n",
       "      <td>Mailed check</td>\n",
       "      <td>-0.259611</td>\n",
       "      <td>-0.172152</td>\n",
       "      <td>No</td>\n",
       "    </tr>\n",
       "    <tr>\n",
       "      <th>2</th>\n",
       "      <td>3668-QPYBK</td>\n",
       "      <td>Male</td>\n",
       "      <td>0</td>\n",
       "      <td>No</td>\n",
       "      <td>No</td>\n",
       "      <td>-1.236636</td>\n",
       "      <td>Yes</td>\n",
       "      <td>No</td>\n",
       "      <td>DSL</td>\n",
       "      <td>Yes</td>\n",
       "      <td>...</td>\n",
       "      <td>No</td>\n",
       "      <td>No</td>\n",
       "      <td>No</td>\n",
       "      <td>No</td>\n",
       "      <td>Month-to-month</td>\n",
       "      <td>Yes</td>\n",
       "      <td>Mailed check</td>\n",
       "      <td>-0.362635</td>\n",
       "      <td>-0.957998</td>\n",
       "      <td>Yes</td>\n",
       "    </tr>\n",
       "    <tr>\n",
       "      <th>3</th>\n",
       "      <td>7795-CFOCW</td>\n",
       "      <td>Male</td>\n",
       "      <td>0</td>\n",
       "      <td>No</td>\n",
       "      <td>No</td>\n",
       "      <td>0.514215</td>\n",
       "      <td>No</td>\n",
       "      <td>No phone service</td>\n",
       "      <td>DSL</td>\n",
       "      <td>Yes</td>\n",
       "      <td>...</td>\n",
       "      <td>Yes</td>\n",
       "      <td>Yes</td>\n",
       "      <td>No</td>\n",
       "      <td>No</td>\n",
       "      <td>One year</td>\n",
       "      <td>No</td>\n",
       "      <td>Bank transfer (automatic)</td>\n",
       "      <td>-0.746482</td>\n",
       "      <td>-0.193659</td>\n",
       "      <td>No</td>\n",
       "    </tr>\n",
       "    <tr>\n",
       "      <th>4</th>\n",
       "      <td>9237-HQITU</td>\n",
       "      <td>Female</td>\n",
       "      <td>0</td>\n",
       "      <td>No</td>\n",
       "      <td>No</td>\n",
       "      <td>-1.236636</td>\n",
       "      <td>Yes</td>\n",
       "      <td>No</td>\n",
       "      <td>Fiber optic</td>\n",
       "      <td>No</td>\n",
       "      <td>...</td>\n",
       "      <td>No</td>\n",
       "      <td>No</td>\n",
       "      <td>No</td>\n",
       "      <td>No</td>\n",
       "      <td>Month-to-month</td>\n",
       "      <td>Yes</td>\n",
       "      <td>Electronic check</td>\n",
       "      <td>0.197351</td>\n",
       "      <td>-0.938808</td>\n",
       "      <td>Yes</td>\n",
       "    </tr>\n",
       "  </tbody>\n",
       "</table>\n",
       "<p>5 rows × 21 columns</p>\n",
       "</div>"
      ],
      "text/plain": [
       "   customerID  gender  SeniorCitizen Partner Dependents    tenure  \\\n",
       "0  7590-VHVEG  Female              0     Yes         No -1.277354   \n",
       "1  5575-GNVDE    Male              0      No         No  0.066323   \n",
       "2  3668-QPYBK    Male              0      No         No -1.236636   \n",
       "3  7795-CFOCW    Male              0      No         No  0.514215   \n",
       "4  9237-HQITU  Female              0      No         No -1.236636   \n",
       "\n",
       "  PhoneService     MultipleLines InternetService OnlineSecurity  ...  \\\n",
       "0           No  No phone service             DSL             No  ...   \n",
       "1          Yes                No             DSL            Yes  ...   \n",
       "2          Yes                No             DSL            Yes  ...   \n",
       "3           No  No phone service             DSL            Yes  ...   \n",
       "4          Yes                No     Fiber optic             No  ...   \n",
       "\n",
       "  DeviceProtection TechSupport StreamingTV StreamingMovies        Contract  \\\n",
       "0               No          No          No              No  Month-to-month   \n",
       "1              Yes          No          No              No        One year   \n",
       "2               No          No          No              No  Month-to-month   \n",
       "3              Yes         Yes          No              No        One year   \n",
       "4               No          No          No              No  Month-to-month   \n",
       "\n",
       "  PaperlessBilling              PaymentMethod MonthlyCharges  TotalCharges  \\\n",
       "0              Yes           Electronic check      -1.160241     -0.992540   \n",
       "1               No               Mailed check      -0.259611     -0.172152   \n",
       "2              Yes               Mailed check      -0.362635     -0.957998   \n",
       "3               No  Bank transfer (automatic)      -0.746482     -0.193659   \n",
       "4              Yes           Electronic check       0.197351     -0.938808   \n",
       "\n",
       "   Churn  \n",
       "0     No  \n",
       "1     No  \n",
       "2    Yes  \n",
       "3     No  \n",
       "4    Yes  \n",
       "\n",
       "[5 rows x 21 columns]"
      ]
     },
     "execution_count": 17,
     "metadata": {},
     "output_type": "execute_result"
    }
   ],
   "source": [
    "df.head()"
   ]
  },
  {
   "cell_type": "markdown",
   "metadata": {},
   "source": [
    "Additionally, all the features, including the target feature 'Churn', with Yes/No columns labels are converted to 1/0."
   ]
  },
  {
   "cell_type": "code",
   "execution_count": 18,
   "metadata": {},
   "outputs": [],
   "source": [
    "tf_features = ['Partner', 'Dependents', 'PhoneService', 'MultipleLines','OnlineSecurity', 'OnlineBackup', 'DeviceProtection',\n",
    "           'TechSupport', 'StreamingTV', 'StreamingMovies', 'PaperlessBilling', 'Churn']\n",
    "\n",
    "for col in tf_features:\n",
    "    df[col] = np.where(df[col] == 'Yes', 1, 0)"
   ]
  },
  {
   "cell_type": "code",
   "execution_count": 19,
   "metadata": {},
   "outputs": [
    {
     "data": {
      "text/plain": [
       "customerID           object\n",
       "gender               object\n",
       "SeniorCitizen         int64\n",
       "Partner               int64\n",
       "Dependents            int64\n",
       "tenure              float64\n",
       "PhoneService          int64\n",
       "MultipleLines         int64\n",
       "InternetService      object\n",
       "OnlineSecurity        int64\n",
       "OnlineBackup          int64\n",
       "DeviceProtection      int64\n",
       "TechSupport           int64\n",
       "StreamingTV           int64\n",
       "StreamingMovies       int64\n",
       "Contract             object\n",
       "PaperlessBilling      int64\n",
       "PaymentMethod        object\n",
       "MonthlyCharges      float64\n",
       "TotalCharges        float64\n",
       "Churn                 int64\n",
       "dtype: object"
      ]
     },
     "execution_count": 19,
     "metadata": {},
     "output_type": "execute_result"
    }
   ],
   "source": [
    "df.dtypes"
   ]
  },
  {
   "cell_type": "markdown",
   "metadata": {},
   "source": [
    "Removing the unnecessary customerID column."
   ]
  },
  {
   "cell_type": "code",
   "execution_count": 20,
   "metadata": {},
   "outputs": [],
   "source": [
    "df = df.drop(['customerID'], axis=1)"
   ]
  },
  {
   "cell_type": "markdown",
   "metadata": {},
   "source": [
    "## 3.3 Data resampling\n",
    "In order to determine the accuracy of any prediction model, there should be an equal number of samples belonging each category in the target feature. "
   ]
  },
  {
   "cell_type": "code",
   "execution_count": 21,
   "metadata": {},
   "outputs": [
    {
     "data": {
      "text/plain": [
       "0    5174\n",
       "1    1869\n",
       "Name: Churn, dtype: int64"
      ]
     },
     "execution_count": 21,
     "metadata": {},
     "output_type": "execute_result"
    }
   ],
   "source": [
    "df['Churn'].value_counts()"
   ]
  },
  {
   "cell_type": "markdown",
   "metadata": {},
   "source": [
    "Upsampling is implemented to balance the majority class. Data loss is a greater concern than efficiency using this small dataset. There is a risk that outlier data points could be unintentionally enhanced using this sampling method, however the previous normalisation step should curtail this effect."
   ]
  },
  {
   "cell_type": "code",
   "execution_count": 22,
   "metadata": {},
   "outputs": [
    {
     "data": {
      "text/plain": [
       "1    5174\n",
       "0    5174\n",
       "Name: Churn, dtype: int64"
      ]
     },
     "execution_count": 22,
     "metadata": {},
     "output_type": "execute_result"
    }
   ],
   "source": [
    "df_majority = df[df['Churn']==0]\n",
    "df_minority = df[df['Churn']==1]\n",
    "\n",
    "# Upsample minority class\n",
    "df_minority_upsampled = resample(df_minority, \n",
    "                                 replace=True,     # sample with replacement\n",
    "                                 n_samples=len(df_majority),    # to match majority class\n",
    "                                 random_state=42) # reproducible results\n",
    "\n",
    "# Combine majority class with upsampled minority class\n",
    "df_upsampled = pd.concat([df_majority, df_minority_upsampled])\n",
    "\n",
    "# Display new class counts\n",
    "df_upsampled['Churn'].value_counts()"
   ]
  },
  {
   "cell_type": "code",
   "execution_count": 23,
   "metadata": {},
   "outputs": [
    {
     "data": {
      "text/html": [
       "<div>\n",
       "<style scoped>\n",
       "    .dataframe tbody tr th:only-of-type {\n",
       "        vertical-align: middle;\n",
       "    }\n",
       "\n",
       "    .dataframe tbody tr th {\n",
       "        vertical-align: top;\n",
       "    }\n",
       "\n",
       "    .dataframe thead th {\n",
       "        text-align: right;\n",
       "    }\n",
       "</style>\n",
       "<table border=\"1\" class=\"dataframe\">\n",
       "  <thead>\n",
       "    <tr style=\"text-align: right;\">\n",
       "      <th></th>\n",
       "      <th>gender</th>\n",
       "      <th>SeniorCitizen</th>\n",
       "      <th>Partner</th>\n",
       "      <th>Dependents</th>\n",
       "      <th>tenure</th>\n",
       "      <th>PhoneService</th>\n",
       "      <th>MultipleLines</th>\n",
       "      <th>InternetService</th>\n",
       "      <th>OnlineSecurity</th>\n",
       "      <th>OnlineBackup</th>\n",
       "      <th>DeviceProtection</th>\n",
       "      <th>TechSupport</th>\n",
       "      <th>StreamingTV</th>\n",
       "      <th>StreamingMovies</th>\n",
       "      <th>Contract</th>\n",
       "      <th>PaperlessBilling</th>\n",
       "      <th>PaymentMethod</th>\n",
       "      <th>MonthlyCharges</th>\n",
       "      <th>TotalCharges</th>\n",
       "      <th>Churn</th>\n",
       "    </tr>\n",
       "  </thead>\n",
       "  <tbody>\n",
       "    <tr>\n",
       "      <th>0</th>\n",
       "      <td>Female</td>\n",
       "      <td>0</td>\n",
       "      <td>1</td>\n",
       "      <td>0</td>\n",
       "      <td>-1.277354</td>\n",
       "      <td>0</td>\n",
       "      <td>0</td>\n",
       "      <td>DSL</td>\n",
       "      <td>0</td>\n",
       "      <td>1</td>\n",
       "      <td>0</td>\n",
       "      <td>0</td>\n",
       "      <td>0</td>\n",
       "      <td>0</td>\n",
       "      <td>Month-to-month</td>\n",
       "      <td>1</td>\n",
       "      <td>Electronic check</td>\n",
       "      <td>-1.160241</td>\n",
       "      <td>-0.992540</td>\n",
       "      <td>0</td>\n",
       "    </tr>\n",
       "    <tr>\n",
       "      <th>1</th>\n",
       "      <td>Male</td>\n",
       "      <td>0</td>\n",
       "      <td>0</td>\n",
       "      <td>0</td>\n",
       "      <td>0.066323</td>\n",
       "      <td>1</td>\n",
       "      <td>0</td>\n",
       "      <td>DSL</td>\n",
       "      <td>1</td>\n",
       "      <td>0</td>\n",
       "      <td>1</td>\n",
       "      <td>0</td>\n",
       "      <td>0</td>\n",
       "      <td>0</td>\n",
       "      <td>One year</td>\n",
       "      <td>0</td>\n",
       "      <td>Mailed check</td>\n",
       "      <td>-0.259611</td>\n",
       "      <td>-0.172152</td>\n",
       "      <td>0</td>\n",
       "    </tr>\n",
       "    <tr>\n",
       "      <th>3</th>\n",
       "      <td>Male</td>\n",
       "      <td>0</td>\n",
       "      <td>0</td>\n",
       "      <td>0</td>\n",
       "      <td>0.514215</td>\n",
       "      <td>0</td>\n",
       "      <td>0</td>\n",
       "      <td>DSL</td>\n",
       "      <td>1</td>\n",
       "      <td>0</td>\n",
       "      <td>1</td>\n",
       "      <td>1</td>\n",
       "      <td>0</td>\n",
       "      <td>0</td>\n",
       "      <td>One year</td>\n",
       "      <td>0</td>\n",
       "      <td>Bank transfer (automatic)</td>\n",
       "      <td>-0.746482</td>\n",
       "      <td>-0.193659</td>\n",
       "      <td>0</td>\n",
       "    </tr>\n",
       "    <tr>\n",
       "      <th>6</th>\n",
       "      <td>Male</td>\n",
       "      <td>0</td>\n",
       "      <td>0</td>\n",
       "      <td>1</td>\n",
       "      <td>-0.422287</td>\n",
       "      <td>1</td>\n",
       "      <td>1</td>\n",
       "      <td>Fiber optic</td>\n",
       "      <td>0</td>\n",
       "      <td>1</td>\n",
       "      <td>0</td>\n",
       "      <td>0</td>\n",
       "      <td>1</td>\n",
       "      <td>0</td>\n",
       "      <td>Month-to-month</td>\n",
       "      <td>1</td>\n",
       "      <td>Credit card (automatic)</td>\n",
       "      <td>0.808849</td>\n",
       "      <td>-0.145728</td>\n",
       "      <td>0</td>\n",
       "    </tr>\n",
       "    <tr>\n",
       "      <th>7</th>\n",
       "      <td>Female</td>\n",
       "      <td>0</td>\n",
       "      <td>0</td>\n",
       "      <td>0</td>\n",
       "      <td>-0.910897</td>\n",
       "      <td>0</td>\n",
       "      <td>0</td>\n",
       "      <td>DSL</td>\n",
       "      <td>1</td>\n",
       "      <td>0</td>\n",
       "      <td>0</td>\n",
       "      <td>0</td>\n",
       "      <td>0</td>\n",
       "      <td>0</td>\n",
       "      <td>Month-to-month</td>\n",
       "      <td>0</td>\n",
       "      <td>Mailed check</td>\n",
       "      <td>-1.163564</td>\n",
       "      <td>-0.872525</td>\n",
       "      <td>0</td>\n",
       "    </tr>\n",
       "  </tbody>\n",
       "</table>\n",
       "</div>"
      ],
      "text/plain": [
       "   gender  SeniorCitizen  Partner  Dependents    tenure  PhoneService  \\\n",
       "0  Female              0        1           0 -1.277354             0   \n",
       "1    Male              0        0           0  0.066323             1   \n",
       "3    Male              0        0           0  0.514215             0   \n",
       "6    Male              0        0           1 -0.422287             1   \n",
       "7  Female              0        0           0 -0.910897             0   \n",
       "\n",
       "   MultipleLines InternetService  OnlineSecurity  OnlineBackup  \\\n",
       "0              0             DSL               0             1   \n",
       "1              0             DSL               1             0   \n",
       "3              0             DSL               1             0   \n",
       "6              1     Fiber optic               0             1   \n",
       "7              0             DSL               1             0   \n",
       "\n",
       "   DeviceProtection  TechSupport  StreamingTV  StreamingMovies  \\\n",
       "0                 0            0            0                0   \n",
       "1                 1            0            0                0   \n",
       "3                 1            1            0                0   \n",
       "6                 0            0            1                0   \n",
       "7                 0            0            0                0   \n",
       "\n",
       "         Contract  PaperlessBilling              PaymentMethod  \\\n",
       "0  Month-to-month                 1           Electronic check   \n",
       "1        One year                 0               Mailed check   \n",
       "3        One year                 0  Bank transfer (automatic)   \n",
       "6  Month-to-month                 1    Credit card (automatic)   \n",
       "7  Month-to-month                 0               Mailed check   \n",
       "\n",
       "   MonthlyCharges  TotalCharges  Churn  \n",
       "0       -1.160241     -0.992540      0  \n",
       "1       -0.259611     -0.172152      0  \n",
       "3       -0.746482     -0.193659      0  \n",
       "6        0.808849     -0.145728      0  \n",
       "7       -1.163564     -0.872525      0  "
      ]
     },
     "execution_count": 23,
     "metadata": {},
     "output_type": "execute_result"
    }
   ],
   "source": [
    "df_upsampled.head()"
   ]
  },
  {
   "cell_type": "markdown",
   "metadata": {},
   "source": [
    "## 3.4 Splitting into training, validation, and test datasets\n",
    "The training data is used by the mdodel to learning the patterns in the dataset. The validation set is used during the model development cycle to help evaluate the fitness of each model iteration. The additional test split is used at the very end to insure that the model has not been overfit.\n",
    "\n",
    "A ratio of 70:15:15 is recommended in this article: https://glassboxmedicine.com/2019/09/15/best-use-of-train-val-test-splits-with-tips-for-medical-data/"
   ]
  },
  {
   "cell_type": "code",
   "execution_count": 24,
   "metadata": {},
   "outputs": [
    {
     "name": "stdout",
     "output_type": "stream",
     "text": [
      "70 % train examples\n",
      "15 % validation examples\n",
      "15 % final test examples\n"
     ]
    }
   ],
   "source": [
    "dftrain, dftest = train_test_split(df_upsampled, test_size=0.15)\n",
    "dftrain, dfeval = train_test_split(dftrain, test_size=0.18)\n",
    "\n",
    "print('{:.0f} % train examples'.format(len(dftrain)/len(df_upsampled)*100))\n",
    "print('{:.0f} % validation examples'.format(len(dfeval)/len(df_upsampled)*100))\n",
    "print('{:.0f} % final test examples'.format(len(dftest)/len(df_upsampled)*100))\n",
    "\n",
    "y_train = dftrain.pop('Churn')\n",
    "y_eval = dfeval.pop('Churn')\n",
    "y_test = dftest.pop('Churn')"
   ]
  },
  {
   "cell_type": "markdown",
   "metadata": {},
   "source": [
    "# Step 4: Build the model\n",
    "#### Model selection\n",
    "This dataset represents a binary classification problem with multiple categorial and numerical features.\n",
    "A linear regression model will first be constructed to provide a baseline model. In addition, the BoostedTrees model from the TensorFlow api is a good candidate to capture the relationships between the features in the dataset."
   ]
  },
  {
   "cell_type": "markdown",
   "metadata": {},
   "source": [
    "## 4.1 Define the input functions "
   ]
  },
  {
   "cell_type": "markdown",
   "metadata": {},
   "source": [
    "### Variable selection\n",
    "The tensorflow tutorial default values for num_epochs and batch_size are 10 and 32 respectively. These varaibles require tuning for each individual dataset. Larger batchs reduce variablity, small batches are more efficient. \n",
    "\n",
    "* After some minor tuning these varaibles are set to: num_epochs = 100, batch_size = 64. They yeild higher accuracy in the linear regression model, while also trying minimizing loss. "
   ]
  },
  {
   "cell_type": "code",
   "execution_count": 25,
   "metadata": {},
   "outputs": [],
   "source": [
    "def make_input_fn(data_df, label_df, num_epochs=100, shuffle=True, batch_size=64):\n",
    "  def input_function():\n",
    "    ds = tf.data.Dataset.from_tensor_slices((dict(data_df), label_df))\n",
    "    if shuffle:\n",
    "      ds = ds.shuffle(1000)\n",
    "    ds = ds.batch(batch_size).repeat(num_epochs)\n",
    "    return ds\n",
    "  return input_function\n",
    "\n",
    "train_input_fn = make_input_fn(dftrain, y_train)\n",
    "eval_input_fn = make_input_fn(dfeval, y_eval, num_epochs=1, shuffle=False)\n",
    "test_input_fn = make_input_fn(dftest, y_test, num_epochs=1, shuffle=False)"
   ]
  },
  {
   "cell_type": "code",
   "execution_count": 26,
   "metadata": {},
   "outputs": [],
   "source": [
    "# Feature column function\n",
    "# Data conversion for compatibility with tensorflow estimator functions\n",
    "def make_feature_columns(CATEGORICAL_COLUMNS,NUMERIC_COLUMNS):\n",
    "    feature_columns = []\n",
    "    \n",
    "    for feature_name in CATEGORICAL_COLUMNS:\n",
    "      vocabulary = dftrain[feature_name].unique()\n",
    "      feature_columns.append(tf.feature_column.categorical_column_with_vocabulary_list(feature_name, vocabulary))\n",
    "    \n",
    "    for feature_name in NUMERIC_COLUMNS:\n",
    "      feature_columns.append(tf.feature_column.numeric_column(feature_name, dtype=tf.float64))\n",
    "    \n",
    "    return feature_columns    "
   ]
  },
  {
   "cell_type": "code",
   "execution_count": 27,
   "metadata": {},
   "outputs": [],
   "source": [
    "# Defining feature columns\n",
    "CATEGORICAL_COLUMNS = [ 'gender','InternetService','Contract', 'PaymentMethod', 'SeniorCitizen', 'Partner', \n",
    "                        'Dependents', 'PhoneService', 'MultipleLines','OnlineBackup', 'DeviceProtection',\n",
    "                        'TechSupport', 'StreamingTV', 'StreamingMovies','PaperlessBilling']\n",
    "\n",
    "NUMERIC_COLUMNS = ['tenure','MonthlyCharges', 'TotalCharges']\n",
    "\n",
    "feature_columns = make_feature_columns(CATEGORICAL_COLUMNS,NUMERIC_COLUMNS)"
   ]
  },
  {
   "cell_type": "markdown",
   "metadata": {},
   "source": [
    "## 4.2 Build the linear regression model"
   ]
  },
  {
   "cell_type": "code",
   "execution_count": 28,
   "metadata": {},
   "outputs": [
    {
     "name": "stdout",
     "output_type": "stream",
     "text": [
      "accuracy                    0.777146\n",
      "accuracy_baseline           0.502525\n",
      "auc                         0.854128\n",
      "auc_precision_recall        0.837186\n",
      "average_loss                0.476068\n",
      "label/mean                  0.497475\n",
      "loss                        0.476840\n",
      "precision                   0.752028\n",
      "prediction/mean             0.500317\n",
      "recall                      0.823604\n",
      "global_step             11300.000000\n",
      "dtype: float64\n"
     ]
    }
   ],
   "source": [
    "linear_est = tf.estimator.LinearClassifier(feature_columns=feature_columns)\n",
    "linear_est.train(train_input_fn)\n",
    "result = linear_est.evaluate(eval_input_fn)\n",
    "\n",
    "clear_output()\n",
    "print(pd.Series(result))"
   ]
  },
  {
   "cell_type": "markdown",
   "metadata": {},
   "source": [
    "## 4.3 Evaluation: linear regression model \n",
    "This model performs quite well. It has an accuracy of 77%, a good false postive to true postive ratio of 85%, while also maintaining a low value for loss (0.49).\n",
    "\n",
    "This is an improvment from the previous notebook, the upsampling process has had a positive effect."
   ]
  },
  {
   "cell_type": "code",
   "execution_count": 29,
   "metadata": {},
   "outputs": [
    {
     "data": {
      "text/plain": [
       "<AxesSubplot:title={'center':'predicted probabilities'}, ylabel='Frequency'>"
      ]
     },
     "execution_count": 29,
     "metadata": {},
     "output_type": "execute_result"
    },
    {
     "data": {
      "image/png": "[encoded data removed]",
      "text/plain": [
       "<Figure size 432x288 with 1 Axes>"
      ]
     },
     "metadata": {
      "needs_background": "light"
     },
     "output_type": "display_data"
    }
   ],
   "source": [
    "pred_dicts = list(linear_est.predict(eval_input_fn))\n",
    "clear_output()\n",
    "\n",
    "probs = pd.Series([pred['probabilities'][1] for pred in pred_dicts])\n",
    "\n",
    "probs.plot(kind='hist', bins=20, title='predicted probabilities')"
   ]
  },
  {
   "cell_type": "markdown",
   "metadata": {},
   "source": [
    "## 4.4 Build the Boosted Trees model"
   ]
  },
  {
   "cell_type": "markdown",
   "metadata": {},
   "source": [
    "### Variable selection\n",
    "The tensorflow tutorial default values for n_trees and max_depth are 2 and 6 respectively. These varaibles also require tuning.\n",
    "\n",
    "The tutorial suggest setting n_batches_per_layer to 1 for small datasets. 'Since data fits into memory, use entire dataset per layer. It will be faster.' However, when the model was run with this value some in very high values for loss were observed. n_batches_per_layer=10 and n_batches_per_layer=20 had similar results.\n",
    "\n",
    "The suggested vaule for max_depth is between 4 and 8. Varying this parameter didn't result in significant difference between the trained models, so the default max_depth=6 was used.\n",
    "\n",
    "The 'Understanding BoostedTrees' tutorial uses n_trees=50. 50 feels like a sifficiently large sample size."
   ]
  },
  {
   "cell_type": "code",
   "execution_count": 30,
   "metadata": {},
   "outputs": [
    {
     "name": "stdout",
     "output_type": "stream",
     "text": [
      "accuracy                   0.791667\n",
      "accuracy_baseline          0.502525\n",
      "auc                        0.862507\n",
      "auc_precision_recall       0.826261\n",
      "average_loss               0.467418\n",
      "label/mean                 0.497475\n",
      "loss                       0.467428\n",
      "precision                  0.767523\n",
      "prediction/mean            0.502271\n",
      "recall                     0.833756\n",
      "global_step             3640.000000\n",
      "dtype: float64\n"
     ]
    }
   ],
   "source": [
    "params = {\n",
    "  'n_trees': 50,\n",
    "  'max_depth': 6,\n",
    "  'n_batches_per_layer': 10,\n",
    "  'center_bias': True\n",
    "}\n",
    "\n",
    "tree_est = tf.estimator.BoostedTreesClassifier(feature_columns=feature_columns,**params)\n",
    "tree_est.train(train_input_fn)\n",
    "result = tree_est.evaluate(eval_input_fn)\n",
    "\n",
    "clear_output()\n",
    "print(pd.Series(result))"
   ]
  },
  {
   "cell_type": "markdown",
   "metadata": {},
   "source": [
    "## 4.5 Evaluation: boosted trees model\n",
    "\n",
    "This model performs better than the linear regression model. It has a higher accuracy of 79%, a higher false postive to true postive ratio of 86%, while also maintaining a lower value for loss (0.46).\n",
    "\n",
    "This is another improvement over the previous notebook that again I assume is due to the upsampling. In the first attempt, the linear regression model outpreformed the boostedtrees model (without feature selection)."
   ]
  },
  {
   "cell_type": "markdown",
   "metadata": {},
   "source": [
    "# 5: Feature selection\n",
    "In order to improve the models overall accuracy, and to shield it from overfitting, unimportant and highly correlated features can be removed from the dataset."
   ]
  },
  {
   "cell_type": "markdown",
   "metadata": {},
   "source": [
    "## 5.1 Cirteria: Correlation\n",
    "\"Remove one of two features that have a correlation higher than 0.9\".\n",
    "\n",
    "Source: https://towardsdatascience.com/feature-selection-correlation-and-p-value-da8921bfb3cf\n",
    "\n",
    "* TotalCharges and tenure are the only features that are highly correlated. During the exploration step, tenure was shown to be a predictive feature, so TotalCharges is a candidate for elimination. "
   ]
  },
  {
   "cell_type": "code",
   "execution_count": 32,
   "metadata": {},
   "outputs": [
    {
     "data": {
      "image/png": "[encoded data removed]",
      "text/plain": [
       "<Figure size 432x288 with 2 Axes>"
      ]
     },
     "metadata": {
      "needs_background": "light"
     },
     "output_type": "display_data"
    }
   ],
   "source": [
    "heatmap = dftrain.corr()\n",
    "ax = sns.heatmap(heatmap, linewidth=0.5)\n",
    "plt.show()"
   ]
  },
  {
   "cell_type": "markdown",
   "metadata": {},
   "source": [
    "## 5.2 Cirteria: Permutation feature importance"
   ]
  },
  {
   "cell_type": "code",
   "execution_count": 33,
   "metadata": {},
   "outputs": [],
   "source": [
    "def permutation_importances(est, X_eval, y_eval, metric, features):\n",
    "    \"\"\"Column by column, shuffle values and observe effect on eval set.\n",
    "\n",
    "    source: http://explained.ai/rf-importance/index.html\n",
    "    A similar approach can be done during training. See \"Drop-column importance\"\n",
    "    in the above article.\"\"\"\n",
    "    baseline = metric(est, X_eval, y_eval)\n",
    "    imp = []\n",
    "    for col in features:\n",
    "        save = X_eval[col].copy()\n",
    "        X_eval[col] = np.random.permutation(X_eval[col])\n",
    "        m = metric(est, X_eval, y_eval)\n",
    "        X_eval[col] = save\n",
    "        imp.append(baseline - m)\n",
    "    return np.array(imp)\n",
    "\n",
    "def accuracy_metric(est, X, y):\n",
    "    \"\"\"TensorFlow estimator accuracy.\"\"\"\n",
    "    return est.evaluate(input_fn=eval_input_fn)['accuracy']"
   ]
  },
  {
   "cell_type": "code",
   "execution_count": 34,
   "metadata": {},
   "outputs": [],
   "source": [
    "features = CATEGORICAL_COLUMNS + NUMERIC_COLUMNS \n",
    "importances = permutation_importances(tree_est, dfeval, y_eval, accuracy_metric, features)\n",
    "df_imp = pd.Series(importances, index=features)\n",
    "clear_output()"
   ]
  },
  {
   "cell_type": "code",
   "execution_count": 35,
   "metadata": {},
   "outputs": [
    {
     "data": {
      "image/png": "[encoded data removed]",
      "text/plain": [
       "<Figure size 720x432 with 1 Axes>"
      ]
     },
     "metadata": {
      "needs_background": "light"
     },
     "output_type": "display_data"
    }
   ],
   "source": [
    "sorted_ix = df_imp.abs().sort_values().index\n",
    "ax = df_imp[sorted_ix][-20:].plot(kind='barh', figsize=(10, 6))\n",
    "ax.grid(False, axis='y')\n",
    "ax.set_title('Permutation feature importance')\n",
    "plt.show()"
   ]
  },
  {
   "cell_type": "markdown",
   "metadata": {},
   "source": [
    "\n",
    "### Adding a random variable to the dataset and rebuilding\n",
    "\"Additionally, remove features the are less important than a random variable\". Source: https://explained.ai/rf-importance/index.html"
   ]
  },
  {
   "cell_type": "code",
   "execution_count": 36,
   "metadata": {},
   "outputs": [],
   "source": [
    "rand_df = df.copy()\n",
    "rand_df['random'] = np.random.uniform(low=0.0, high=1.0, size=(df.shape[0]))\n",
    "\n",
    "# Splitting the dataset into training and evaluation data\n",
    "rand_dftrain, rand_dfeval = train_test_split(rand_df, test_size=0.2)\n",
    "rand_y_train = rand_dftrain.pop('Churn')\n",
    "rand_y_eval = rand_dfeval.pop('Churn')\n",
    "\n",
    "train_input_fn = make_input_fn(rand_dftrain, rand_y_train)\n",
    "eval_input_fn = make_input_fn(rand_dfeval, rand_y_eval, num_epochs=1, shuffle=False)"
   ]
  },
  {
   "cell_type": "markdown",
   "metadata": {},
   "source": [
    "### Iteritively remove unimportant features\n",
    "* Rerun this cell with updated feature lists"
   ]
  },
  {
   "cell_type": "code",
   "execution_count": 37,
   "metadata": {},
   "outputs": [
    {
     "data": {
      "image/png": "[encoded data removed]",
      "text/plain": [
       "<Figure size 720x432 with 1 Axes>"
      ]
     },
     "metadata": {
      "needs_background": "light"
     },
     "output_type": "display_data"
    }
   ],
   "source": [
    "# Defining feature columns\n",
    "CATEGORICAL_R = ['InternetService', 'Contract']\n",
    "\n",
    "NUMERIC_R = ['tenure', 'MonthlyCharges', 'TotalCharges', 'random']\n",
    "\n",
    "removed = ['PhoneService', # Round 1\n",
    "           'TechSupport', 'PaperlessBilling','StreamingMovies','Partner', #Round 2\n",
    "           'gender','DeviceProtection', 'StreamingTV', 'SeniorCitizen',   #Round 2\n",
    "           'PaymentMethod', 'MultipleLines', 'OnlineBackup', 'Dependents', #Round 3\n",
    "          ]\n",
    "\n",
    "feature_columns = make_feature_columns(CATEGORICAL_R,NUMERIC_R)\n",
    "features = CATEGORICAL_R + NUMERIC_R \n",
    "# Build the model\n",
    "rand_est = tf.estimator.BoostedTreesClassifier(feature_columns, **params)\n",
    "\n",
    "# Train model.\n",
    "rand_est.train(train_input_fn)\n",
    "\n",
    "# Calculate the importances\n",
    "importances = permutation_importances(rand_est, rand_dfeval, rand_y_eval, accuracy_metric, features)\n",
    "df_imp = pd.Series(importances, index=features)\n",
    "\n",
    "clear_output()\n",
    "\n",
    "# Build the graph\n",
    "sorted_ix = df_imp.abs().sort_values().index\n",
    "ax = df_imp[sorted_ix][-20:].plot(kind='barh', figsize=(10, 6))\n",
    "ax.grid(False, axis='y')\n",
    "ax.set_title('Permutation feature importance')\n",
    "plt.show()"
   ]
  },
  {
   "cell_type": "markdown",
   "metadata": {},
   "source": [
    "### Insight\n",
    "* Out of 19 features in the dataset only tenure, TotalCharges, MonthlyCharges, InternetService, Contract, and are more significant than a random variable to the model's prediction of churn.\n",
    "* Tenure and TotalCharges are highly correlated."
   ]
  },
  {
   "cell_type": "markdown",
   "metadata": {},
   "source": [
    "# Step 6: Rebuild model using new feature set\n",
    "InternetService, Contract, tenure, MonthlyCharges"
   ]
  },
  {
   "cell_type": "code",
   "execution_count": 38,
   "metadata": {},
   "outputs": [],
   "source": [
    "# define input functions\n",
    "train_input_fn = make_input_fn(dftrain, y_train)\n",
    "eval_input_fn = make_input_fn(dfeval, y_eval, num_epochs=1, shuffle=False)\n",
    "\n",
    "# define feature columns\n",
    "CATEGORICAL_COLUMNS = ['InternetService', 'Contract']\n",
    "NUMERIC_COLUMNS = ['tenure', 'MonthlyCharges']\n",
    "feature_columns = make_feature_columns(CATEGORICAL_COLUMNS,NUMERIC_COLUMNS)"
   ]
  },
  {
   "cell_type": "markdown",
   "metadata": {},
   "source": [
    "## 6.1 Linear regression model with feature selection"
   ]
  },
  {
   "cell_type": "code",
   "execution_count": 39,
   "metadata": {},
   "outputs": [
    {
     "name": "stdout",
     "output_type": "stream",
     "text": [
      "accuracy                    0.756313\n",
      "accuracy_baseline           0.502525\n",
      "auc                         0.837498\n",
      "auc_precision_recall        0.812868\n",
      "average_loss                0.495251\n",
      "label/mean                  0.497475\n",
      "loss                        0.495812\n",
      "precision                   0.730505\n",
      "prediction/mean             0.496968\n",
      "recall                      0.808376\n",
      "global_step             11300.000000\n",
      "dtype: float64\n"
     ]
    }
   ],
   "source": [
    "linear_est = tf.estimator.LinearClassifier(feature_columns=feature_columns)\n",
    "linear_est.train(train_input_fn)\n",
    "result = linear_est.evaluate(eval_input_fn)\n",
    "\n",
    "clear_output()\n",
    "print(pd.Series(result))"
   ]
  },
  {
   "cell_type": "markdown",
   "metadata": {},
   "source": [
    "This model has an accuracy of 75%, a good false postive to true postive ratio of 83%, and a low value for loss (0.49). This represents a slight reduction in the accuracy of the linear regression model."
   ]
  },
  {
   "cell_type": "markdown",
   "metadata": {},
   "source": [
    "## 6.2 Boosted trees model with feature selection"
   ]
  },
  {
   "cell_type": "code",
   "execution_count": 40,
   "metadata": {},
   "outputs": [
    {
     "name": "stdout",
     "output_type": "stream",
     "text": [
      "accuracy                   0.772096\n",
      "accuracy_baseline          0.502525\n",
      "auc                        0.852290\n",
      "auc_precision_recall       0.815514\n",
      "average_loss               0.464481\n",
      "label/mean                 0.497475\n",
      "loss                       0.464403\n",
      "precision                  0.741243\n",
      "prediction/mean            0.504538\n",
      "recall                     0.832487\n",
      "global_step             3100.000000\n",
      "dtype: float64\n"
     ]
    }
   ],
   "source": [
    "tree_est = tf.estimator.BoostedTreesClassifier(feature_columns=feature_columns,**params)\n",
    "tree_est.train(train_input_fn)\n",
    "result = tree_est.evaluate(eval_input_fn)\n",
    "\n",
    "clear_output()\n",
    "print(pd.Series(result))"
   ]
  },
  {
   "cell_type": "markdown",
   "metadata": {},
   "source": [
    "This model has an accuracy of 77%, a false postive to true postive ratio of 85%, and a loss value of 0.46. This also represents a slight reduction in the accuracy of the boosted tree model."
   ]
  },
  {
   "cell_type": "markdown",
   "metadata": {},
   "source": [
    "## 6.3 Outcome of feature selection\n",
    "Neither the linear regression nor boosted tree models improved significantly as a result of the feature selection. In fact, the regression model's accuracy reduced slightly. The parameter tuning had a bigger impact on the model's accuracy than the feature selection.\n",
    "\n",
    "However, this slight reduction in accuracy may coinsign with a generalised model."
   ]
  },
  {
   "cell_type": "markdown",
   "metadata": {},
   "source": [
    "# Step 7: Make Predictions\n",
    "Finally, test the model's predictive power using the unseen portion of the dataset. This data wasn't involved in the recrusive training process, and so should be a fairly accurate representaion of real world data. This will also determine if the model has only memorised the training and evaluation data resulting in overfitting. "
   ]
  },
  {
   "cell_type": "code",
   "execution_count": 41,
   "metadata": {},
   "outputs": [
    {
     "name": "stdout",
     "output_type": "stream",
     "text": [
      "accuracy                   0.764327\n",
      "accuracy_baseline          0.510625\n",
      "auc                        0.854279\n",
      "auc_precision_recall       0.826377\n",
      "average_loss               0.465045\n",
      "label/mean                 0.489375\n",
      "loss                       0.455441\n",
      "precision                  0.733412\n",
      "prediction/mean            0.497642\n",
      "recall                     0.814474\n",
      "global_step             3100.000000\n",
      "dtype: float64\n"
     ]
    }
   ],
   "source": [
    "result = tree_est.evaluate(test_input_fn)\n",
    "\n",
    "clear_output()\n",
    "print(pd.Series(result))"
   ]
  },
  {
   "cell_type": "code",
   "execution_count": 42,
   "metadata": {},
   "outputs": [
    {
     "data": {
      "image/png": "[encoded data removed]",
      "text/plain": [
       "<Figure size 432x288 with 1 Axes>"
      ]
     },
     "metadata": {
      "needs_background": "light"
     },
     "output_type": "display_data"
    }
   ],
   "source": [
    "pred_dicts = list(tree_est.predict(test_input_fn))\n",
    "clear_output()\n",
    "\n",
    "probs = pd.Series([pred['probabilities'][1] for pred in pred_dicts])\n",
    "\n",
    "probs.plot(kind='hist', bins=20, title='predicted probabilities')\n",
    "plt.show()"
   ]
  },
  {
   "cell_type": "markdown",
   "metadata": {},
   "source": [
    "# Conclusion\n",
    "\n",
    "Built a boosted tree classifer model to predict customer churn with a 76% accuracy rate on unseen data.\n",
    "\n",
    "## Insights:\n",
    "* Customer tenure is the most significant contributor to customer churn. High tenure can overcome the impact of other features that would cause a customer to churn.\n",
    "\n",
    "* Customers with high charges are less likely to churn. Higher monthly charges may correlate with more service subscriptions, leading to sticker customers. \n",
    "\n",
    "* A Month-to-Month contract is a stong predictor of customer churn. It is evident that customers are unlikely to break their long term contracts. \n",
    "\n",
    "* Customers in the Fiber Optic InternetService option are likely to churn. This may indicate a problem with this service and may require escalation.\n",
    "\n",
    "* Surprisingly, customer demographics have no impact on their churn prediction. \n",
    "\n",
    "* Marketing efforts to prevent churn should be focused on promoting long term contracts and in retaining low tenured customers.\n",
    "\n",
    "\n",
    "## Potential improvements\n",
    "* Combine unimportant service features to calculate the number of subscriptions per customer. This may become a predictive variable. \n",
    "* Execute a more through investigation of the model parameters to tune the decision tree for higher accuracy."
   ]
  }
 ],
 "metadata": {
  "kernelspec": {
   "display_name": "Python 3",
   "language": "python",
   "name": "python3"
  },
  "language_info": {
   "codemirror_mode": {
    "name": "ipython",
    "version": 3
   },
   "file_extension": ".py",
   "mimetype": "text/x-python",
   "name": "python",
   "nbconvert_exporter": "python",
   "pygments_lexer": "ipython3",
   "version": "3.6.9"
  }
 },
 "nbformat": 4,
 "nbformat_minor": 2
}
