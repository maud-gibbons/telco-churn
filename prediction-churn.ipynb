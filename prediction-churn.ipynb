{
 "cells": [
  {
   "cell_type": "markdown",
   "metadata": {},
   "source": [
    "# Adaping TensorFlow Esitmator tutorial for Kaggle Customer Churn \n",
    "### Source: https://www.tensorflow.org/tutorials/estimator/linear\n",
    "### Source: https://www.kaggle.com/blastchar/telco-customer-churn"
   ]
  },
  {
   "cell_type": "code",
   "execution_count": 1,
   "metadata": {},
   "outputs": [],
   "source": [
    "!pip install -q sklearn"
   ]
  },
  {
   "cell_type": "code",
   "execution_count": 2,
   "metadata": {},
   "outputs": [],
   "source": [
    "import numpy as np\n",
    "import pandas as pd\n",
    "\n",
    "import tensorflow as tf\n",
    "from matplotlib import pyplot as plt\n",
    "from sklearn.model_selection import train_test_split\n",
    "\n",
    "from IPython.display import clear_output\n",
    "from sklearn.metrics import roc_curve\n",
    "\n",
    "import seaborn as sns\n",
    "sns_colors = sns.color_palette('colorblind')"
   ]
  },
  {
   "cell_type": "code",
   "execution_count": 3,
   "metadata": {},
   "outputs": [],
   "source": [
    "# Load dataset.\n",
    "csv_file = 'Telco-Customer-Churn-Cleaned.csv'\n",
    "df = pd.read_csv(csv_file)"
   ]
  },
  {
   "cell_type": "markdown",
   "metadata": {},
   "source": [
    "# Split Dataset for training"
   ]
  },
  {
   "cell_type": "code",
   "execution_count": 4,
   "metadata": {},
   "outputs": [
    {
     "name": "stdout",
     "output_type": "stream",
     "text": [
      "5634 train examples\n",
      "1409 validation examples\n"
     ]
    }
   ],
   "source": [
    "# Splitting the dataset into training and evaluation data\n",
    "dftrain, dfeval = train_test_split(df, test_size=0.2)\n",
    "print(len(dftrain), 'train examples')\n",
    "print(len(dfeval), 'validation examples')\n",
    "\n",
    "y_train = dftrain.pop('Churn')\n",
    "y_eval = dfeval.pop('Churn')"
   ]
  },
  {
   "cell_type": "markdown",
   "metadata": {},
   "source": [
    "# Data Exploration"
   ]
  },
  {
   "cell_type": "code",
   "execution_count": 5,
   "metadata": {},
   "outputs": [
    {
     "data": {
      "text/html": [
       "<div>\n",
       "<style scoped>\n",
       "    .dataframe tbody tr th:only-of-type {\n",
       "        vertical-align: middle;\n",
       "    }\n",
       "\n",
       "    .dataframe tbody tr th {\n",
       "        vertical-align: top;\n",
       "    }\n",
       "\n",
       "    .dataframe thead th {\n",
       "        text-align: right;\n",
       "    }\n",
       "</style>\n",
       "<table border=\"1\" class=\"dataframe\">\n",
       "  <thead>\n",
       "    <tr style=\"text-align: right;\">\n",
       "      <th></th>\n",
       "      <th>gender</th>\n",
       "      <th>SeniorCitizen</th>\n",
       "      <th>Partner</th>\n",
       "      <th>Dependents</th>\n",
       "      <th>tenure</th>\n",
       "      <th>PhoneService</th>\n",
       "      <th>MultipleLines</th>\n",
       "      <th>InternetService</th>\n",
       "      <th>OnlineSecurity</th>\n",
       "      <th>OnlineBackup</th>\n",
       "      <th>DeviceProtection</th>\n",
       "      <th>TechSupport</th>\n",
       "      <th>StreamingTV</th>\n",
       "      <th>StreamingMovies</th>\n",
       "      <th>Contract</th>\n",
       "      <th>PaperlessBilling</th>\n",
       "      <th>PaymentMethod</th>\n",
       "      <th>MonthlyCharges</th>\n",
       "      <th>TotalCharges</th>\n",
       "    </tr>\n",
       "  </thead>\n",
       "  <tbody>\n",
       "    <tr>\n",
       "      <th>5220</th>\n",
       "      <td>Female</td>\n",
       "      <td>0</td>\n",
       "      <td>0</td>\n",
       "      <td>0</td>\n",
       "      <td>29</td>\n",
       "      <td>1</td>\n",
       "      <td>0</td>\n",
       "      <td>DSL</td>\n",
       "      <td>1</td>\n",
       "      <td>0</td>\n",
       "      <td>1</td>\n",
       "      <td>1</td>\n",
       "      <td>0</td>\n",
       "      <td>0</td>\n",
       "      <td>One year</td>\n",
       "      <td>0</td>\n",
       "      <td>Credit card (automatic)</td>\n",
       "      <td>58.00</td>\n",
       "      <td>1734.50</td>\n",
       "    </tr>\n",
       "    <tr>\n",
       "      <th>5466</th>\n",
       "      <td>Male</td>\n",
       "      <td>0</td>\n",
       "      <td>0</td>\n",
       "      <td>1</td>\n",
       "      <td>10</td>\n",
       "      <td>1</td>\n",
       "      <td>0</td>\n",
       "      <td>No</td>\n",
       "      <td>0</td>\n",
       "      <td>0</td>\n",
       "      <td>0</td>\n",
       "      <td>0</td>\n",
       "      <td>0</td>\n",
       "      <td>0</td>\n",
       "      <td>One year</td>\n",
       "      <td>1</td>\n",
       "      <td>Bank transfer (automatic)</td>\n",
       "      <td>19.95</td>\n",
       "      <td>219.50</td>\n",
       "    </tr>\n",
       "    <tr>\n",
       "      <th>4127</th>\n",
       "      <td>Male</td>\n",
       "      <td>0</td>\n",
       "      <td>0</td>\n",
       "      <td>1</td>\n",
       "      <td>56</td>\n",
       "      <td>1</td>\n",
       "      <td>1</td>\n",
       "      <td>No</td>\n",
       "      <td>0</td>\n",
       "      <td>0</td>\n",
       "      <td>0</td>\n",
       "      <td>0</td>\n",
       "      <td>0</td>\n",
       "      <td>0</td>\n",
       "      <td>Two year</td>\n",
       "      <td>1</td>\n",
       "      <td>Mailed check</td>\n",
       "      <td>24.80</td>\n",
       "      <td>1424.20</td>\n",
       "    </tr>\n",
       "    <tr>\n",
       "      <th>6378</th>\n",
       "      <td>Male</td>\n",
       "      <td>0</td>\n",
       "      <td>1</td>\n",
       "      <td>1</td>\n",
       "      <td>13</td>\n",
       "      <td>1</td>\n",
       "      <td>0</td>\n",
       "      <td>Fiber optic</td>\n",
       "      <td>1</td>\n",
       "      <td>0</td>\n",
       "      <td>0</td>\n",
       "      <td>0</td>\n",
       "      <td>0</td>\n",
       "      <td>1</td>\n",
       "      <td>Month-to-month</td>\n",
       "      <td>0</td>\n",
       "      <td>Electronic check</td>\n",
       "      <td>84.05</td>\n",
       "      <td>1095.30</td>\n",
       "    </tr>\n",
       "    <tr>\n",
       "      <th>1652</th>\n",
       "      <td>Male</td>\n",
       "      <td>0</td>\n",
       "      <td>1</td>\n",
       "      <td>0</td>\n",
       "      <td>17</td>\n",
       "      <td>0</td>\n",
       "      <td>0</td>\n",
       "      <td>DSL</td>\n",
       "      <td>1</td>\n",
       "      <td>0</td>\n",
       "      <td>1</td>\n",
       "      <td>0</td>\n",
       "      <td>0</td>\n",
       "      <td>0</td>\n",
       "      <td>Month-to-month</td>\n",
       "      <td>0</td>\n",
       "      <td>Mailed check</td>\n",
       "      <td>34.40</td>\n",
       "      <td>592.75</td>\n",
       "    </tr>\n",
       "  </tbody>\n",
       "</table>\n",
       "</div>"
      ],
      "text/plain": [
       "      gender  SeniorCitizen  Partner  Dependents  tenure  PhoneService  \\\n",
       "5220  Female              0        0           0      29             1   \n",
       "5466    Male              0        0           1      10             1   \n",
       "4127    Male              0        0           1      56             1   \n",
       "6378    Male              0        1           1      13             1   \n",
       "1652    Male              0        1           0      17             0   \n",
       "\n",
       "      MultipleLines InternetService  OnlineSecurity  OnlineBackup  \\\n",
       "5220              0             DSL               1             0   \n",
       "5466              0              No               0             0   \n",
       "4127              1              No               0             0   \n",
       "6378              0     Fiber optic               1             0   \n",
       "1652              0             DSL               1             0   \n",
       "\n",
       "      DeviceProtection  TechSupport  StreamingTV  StreamingMovies  \\\n",
       "5220                 1            1            0                0   \n",
       "5466                 0            0            0                0   \n",
       "4127                 0            0            0                0   \n",
       "6378                 0            0            0                1   \n",
       "1652                 1            0            0                0   \n",
       "\n",
       "            Contract  PaperlessBilling              PaymentMethod  \\\n",
       "5220        One year                 0    Credit card (automatic)   \n",
       "5466        One year                 1  Bank transfer (automatic)   \n",
       "4127        Two year                 1               Mailed check   \n",
       "6378  Month-to-month                 0           Electronic check   \n",
       "1652  Month-to-month                 0               Mailed check   \n",
       "\n",
       "      MonthlyCharges  TotalCharges  \n",
       "5220           58.00       1734.50  \n",
       "5466           19.95        219.50  \n",
       "4127           24.80       1424.20  \n",
       "6378           84.05       1095.30  \n",
       "1652           34.40        592.75  "
      ]
     },
     "execution_count": 5,
     "metadata": {},
     "output_type": "execute_result"
    }
   ],
   "source": [
    "dftrain.head()"
   ]
  },
  {
   "cell_type": "code",
   "execution_count": 6,
   "metadata": {},
   "outputs": [
    {
     "data": {
      "text/html": [
       "<div>\n",
       "<style scoped>\n",
       "    .dataframe tbody tr th:only-of-type {\n",
       "        vertical-align: middle;\n",
       "    }\n",
       "\n",
       "    .dataframe tbody tr th {\n",
       "        vertical-align: top;\n",
       "    }\n",
       "\n",
       "    .dataframe thead th {\n",
       "        text-align: right;\n",
       "    }\n",
       "</style>\n",
       "<table border=\"1\" class=\"dataframe\">\n",
       "  <thead>\n",
       "    <tr style=\"text-align: right;\">\n",
       "      <th></th>\n",
       "      <th>SeniorCitizen</th>\n",
       "      <th>Partner</th>\n",
       "      <th>Dependents</th>\n",
       "      <th>tenure</th>\n",
       "      <th>PhoneService</th>\n",
       "      <th>MultipleLines</th>\n",
       "      <th>OnlineSecurity</th>\n",
       "      <th>OnlineBackup</th>\n",
       "      <th>DeviceProtection</th>\n",
       "      <th>TechSupport</th>\n",
       "      <th>StreamingTV</th>\n",
       "      <th>StreamingMovies</th>\n",
       "      <th>PaperlessBilling</th>\n",
       "      <th>MonthlyCharges</th>\n",
       "      <th>TotalCharges</th>\n",
       "    </tr>\n",
       "  </thead>\n",
       "  <tbody>\n",
       "    <tr>\n",
       "      <th>count</th>\n",
       "      <td>5634.000000</td>\n",
       "      <td>5634.000000</td>\n",
       "      <td>5634.000000</td>\n",
       "      <td>5634.000000</td>\n",
       "      <td>5634.000000</td>\n",
       "      <td>5634.000000</td>\n",
       "      <td>5634.000000</td>\n",
       "      <td>5634.000000</td>\n",
       "      <td>5634.000000</td>\n",
       "      <td>5634.000000</td>\n",
       "      <td>5634.000000</td>\n",
       "      <td>5634.000000</td>\n",
       "      <td>5634.000000</td>\n",
       "      <td>5634.000000</td>\n",
       "      <td>5634.000000</td>\n",
       "    </tr>\n",
       "    <tr>\n",
       "      <th>mean</th>\n",
       "      <td>0.160277</td>\n",
       "      <td>0.479411</td>\n",
       "      <td>0.298012</td>\n",
       "      <td>32.388711</td>\n",
       "      <td>0.902911</td>\n",
       "      <td>0.424920</td>\n",
       "      <td>0.290380</td>\n",
       "      <td>0.343273</td>\n",
       "      <td>0.342031</td>\n",
       "      <td>0.293930</td>\n",
       "      <td>0.384274</td>\n",
       "      <td>0.389776</td>\n",
       "      <td>0.591232</td>\n",
       "      <td>64.877307</td>\n",
       "      <td>2292.255405</td>\n",
       "    </tr>\n",
       "    <tr>\n",
       "      <th>std</th>\n",
       "      <td>0.366895</td>\n",
       "      <td>0.499620</td>\n",
       "      <td>0.457425</td>\n",
       "      <td>24.540176</td>\n",
       "      <td>0.296105</td>\n",
       "      <td>0.494375</td>\n",
       "      <td>0.453978</td>\n",
       "      <td>0.474844</td>\n",
       "      <td>0.474432</td>\n",
       "      <td>0.455601</td>\n",
       "      <td>0.486466</td>\n",
       "      <td>0.487743</td>\n",
       "      <td>0.491650</td>\n",
       "      <td>30.048106</td>\n",
       "      <td>2275.369279</td>\n",
       "    </tr>\n",
       "    <tr>\n",
       "      <th>min</th>\n",
       "      <td>0.000000</td>\n",
       "      <td>0.000000</td>\n",
       "      <td>0.000000</td>\n",
       "      <td>0.000000</td>\n",
       "      <td>0.000000</td>\n",
       "      <td>0.000000</td>\n",
       "      <td>0.000000</td>\n",
       "      <td>0.000000</td>\n",
       "      <td>0.000000</td>\n",
       "      <td>0.000000</td>\n",
       "      <td>0.000000</td>\n",
       "      <td>0.000000</td>\n",
       "      <td>0.000000</td>\n",
       "      <td>18.250000</td>\n",
       "      <td>0.000000</td>\n",
       "    </tr>\n",
       "    <tr>\n",
       "      <th>25%</th>\n",
       "      <td>0.000000</td>\n",
       "      <td>0.000000</td>\n",
       "      <td>0.000000</td>\n",
       "      <td>9.000000</td>\n",
       "      <td>1.000000</td>\n",
       "      <td>0.000000</td>\n",
       "      <td>0.000000</td>\n",
       "      <td>0.000000</td>\n",
       "      <td>0.000000</td>\n",
       "      <td>0.000000</td>\n",
       "      <td>0.000000</td>\n",
       "      <td>0.000000</td>\n",
       "      <td>0.000000</td>\n",
       "      <td>36.000000</td>\n",
       "      <td>398.725000</td>\n",
       "    </tr>\n",
       "    <tr>\n",
       "      <th>50%</th>\n",
       "      <td>0.000000</td>\n",
       "      <td>0.000000</td>\n",
       "      <td>0.000000</td>\n",
       "      <td>29.000000</td>\n",
       "      <td>1.000000</td>\n",
       "      <td>0.000000</td>\n",
       "      <td>0.000000</td>\n",
       "      <td>0.000000</td>\n",
       "      <td>0.000000</td>\n",
       "      <td>0.000000</td>\n",
       "      <td>0.000000</td>\n",
       "      <td>0.000000</td>\n",
       "      <td>1.000000</td>\n",
       "      <td>70.300000</td>\n",
       "      <td>1398.975000</td>\n",
       "    </tr>\n",
       "    <tr>\n",
       "      <th>75%</th>\n",
       "      <td>0.000000</td>\n",
       "      <td>1.000000</td>\n",
       "      <td>1.000000</td>\n",
       "      <td>55.000000</td>\n",
       "      <td>1.000000</td>\n",
       "      <td>1.000000</td>\n",
       "      <td>1.000000</td>\n",
       "      <td>1.000000</td>\n",
       "      <td>1.000000</td>\n",
       "      <td>1.000000</td>\n",
       "      <td>1.000000</td>\n",
       "      <td>1.000000</td>\n",
       "      <td>1.000000</td>\n",
       "      <td>89.900000</td>\n",
       "      <td>3847.287500</td>\n",
       "    </tr>\n",
       "    <tr>\n",
       "      <th>max</th>\n",
       "      <td>1.000000</td>\n",
       "      <td>1.000000</td>\n",
       "      <td>1.000000</td>\n",
       "      <td>72.000000</td>\n",
       "      <td>1.000000</td>\n",
       "      <td>1.000000</td>\n",
       "      <td>1.000000</td>\n",
       "      <td>1.000000</td>\n",
       "      <td>1.000000</td>\n",
       "      <td>1.000000</td>\n",
       "      <td>1.000000</td>\n",
       "      <td>1.000000</td>\n",
       "      <td>1.000000</td>\n",
       "      <td>118.750000</td>\n",
       "      <td>8684.800000</td>\n",
       "    </tr>\n",
       "  </tbody>\n",
       "</table>\n",
       "</div>"
      ],
      "text/plain": [
       "       SeniorCitizen      Partner   Dependents       tenure  PhoneService  \\\n",
       "count    5634.000000  5634.000000  5634.000000  5634.000000   5634.000000   \n",
       "mean        0.160277     0.479411     0.298012    32.388711      0.902911   \n",
       "std         0.366895     0.499620     0.457425    24.540176      0.296105   \n",
       "min         0.000000     0.000000     0.000000     0.000000      0.000000   \n",
       "25%         0.000000     0.000000     0.000000     9.000000      1.000000   \n",
       "50%         0.000000     0.000000     0.000000    29.000000      1.000000   \n",
       "75%         0.000000     1.000000     1.000000    55.000000      1.000000   \n",
       "max         1.000000     1.000000     1.000000    72.000000      1.000000   \n",
       "\n",
       "       MultipleLines  OnlineSecurity  OnlineBackup  DeviceProtection  \\\n",
       "count    5634.000000     5634.000000   5634.000000       5634.000000   \n",
       "mean        0.424920        0.290380      0.343273          0.342031   \n",
       "std         0.494375        0.453978      0.474844          0.474432   \n",
       "min         0.000000        0.000000      0.000000          0.000000   \n",
       "25%         0.000000        0.000000      0.000000          0.000000   \n",
       "50%         0.000000        0.000000      0.000000          0.000000   \n",
       "75%         1.000000        1.000000      1.000000          1.000000   \n",
       "max         1.000000        1.000000      1.000000          1.000000   \n",
       "\n",
       "       TechSupport  StreamingTV  StreamingMovies  PaperlessBilling  \\\n",
       "count  5634.000000  5634.000000      5634.000000       5634.000000   \n",
       "mean      0.293930     0.384274         0.389776          0.591232   \n",
       "std       0.455601     0.486466         0.487743          0.491650   \n",
       "min       0.000000     0.000000         0.000000          0.000000   \n",
       "25%       0.000000     0.000000         0.000000          0.000000   \n",
       "50%       0.000000     0.000000         0.000000          1.000000   \n",
       "75%       1.000000     1.000000         1.000000          1.000000   \n",
       "max       1.000000     1.000000         1.000000          1.000000   \n",
       "\n",
       "       MonthlyCharges  TotalCharges  \n",
       "count     5634.000000   5634.000000  \n",
       "mean        64.877307   2292.255405  \n",
       "std         30.048106   2275.369279  \n",
       "min         18.250000      0.000000  \n",
       "25%         36.000000    398.725000  \n",
       "50%         70.300000   1398.975000  \n",
       "75%         89.900000   3847.287500  \n",
       "max        118.750000   8684.800000  "
      ]
     },
     "execution_count": 6,
     "metadata": {},
     "output_type": "execute_result"
    }
   ],
   "source": [
    "dftrain.describe()"
   ]
  },
  {
   "cell_type": "markdown",
   "metadata": {},
   "source": [
    "## Gender breakdown"
   ]
  },
  {
   "cell_type": "code",
   "execution_count": 7,
   "metadata": {},
   "outputs": [
    {
     "data": {
      "image/png": "[encoded data removed]",
      "text/plain": [
       "<Figure size 432x288 with 1 Axes>"
      ]
     },
     "metadata": {
      "needs_background": "light"
     },
     "output_type": "display_data"
    }
   ],
   "source": [
    "df['gender'].value_counts().plot(kind='barh')\n",
    "plt.show()"
   ]
  },
  {
   "cell_type": "code",
   "execution_count": 8,
   "metadata": {},
   "outputs": [
    {
     "data": {
      "text/plain": [
       "Text(0.5, 0, '% Churn')"
      ]
     },
     "execution_count": 8,
     "metadata": {},
     "output_type": "execute_result"
    },
    {
     "data": {
      "image/png": "[encoded data removed]",
      "text/plain": [
       "<Figure size 432x288 with 1 Axes>"
      ]
     },
     "metadata": {
      "needs_background": "light"
     },
     "output_type": "display_data"
    }
   ],
   "source": [
    "pd.concat([dftrain, y_train], axis=1).groupby('gender').Churn.mean().plot(kind='barh').set_xlabel('% Churn')"
   ]
  },
  {
   "cell_type": "markdown",
   "metadata": {},
   "source": [
    "### Males and females have an equal chance of churning. This is clearly not a predictive feature for the model. "
   ]
  },
  {
   "cell_type": "markdown",
   "metadata": {},
   "source": [
    "## Contract Type Breakdown"
   ]
  },
  {
   "cell_type": "code",
   "execution_count": 9,
   "metadata": {},
   "outputs": [
    {
     "data": {
      "image/png": "[encoded data removed]",
      "text/plain": [
       "<Figure size 432x288 with 1 Axes>"
      ]
     },
     "metadata": {
      "needs_background": "light"
     },
     "output_type": "display_data"
    }
   ],
   "source": [
    "df['Contract'].value_counts().plot(kind='barh')\n",
    "plt.show()"
   ]
  },
  {
   "cell_type": "code",
   "execution_count": 10,
   "metadata": {},
   "outputs": [
    {
     "data": {
      "text/plain": [
       "Text(0.5, 0, '% Churn')"
      ]
     },
     "execution_count": 10,
     "metadata": {},
     "output_type": "execute_result"
    },
    {
     "data": {
      "image/png": "[encoded data removed]",
      "text/plain": [
       "<Figure size 432x288 with 1 Axes>"
      ]
     },
     "metadata": {
      "needs_background": "light"
     },
     "output_type": "display_data"
    }
   ],
   "source": [
    "pd.concat([dftrain, y_train], axis=1).groupby('Contract').Churn.mean().plot(kind='barh').set_xlabel('% Churn')"
   ]
  },
  {
   "cell_type": "markdown",
   "metadata": {},
   "source": [
    "### Approximately half of customers are on a month-to-month contract. This is a stong predictor of churn. \n",
    "### Actionable insight: promote one/two year contracts"
   ]
  },
  {
   "cell_type": "markdown",
   "metadata": {},
   "source": [
    "## Internet Service Breakdown"
   ]
  },
  {
   "cell_type": "code",
   "execution_count": 11,
   "metadata": {},
   "outputs": [
    {
     "data": {
      "image/png": "[encoded data removed]",
      "text/plain": [
       "<Figure size 432x288 with 1 Axes>"
      ]
     },
     "metadata": {
      "needs_background": "light"
     },
     "output_type": "display_data"
    }
   ],
   "source": [
    "df['InternetService'].value_counts().plot(kind='barh')\n",
    "plt.show()"
   ]
  },
  {
   "cell_type": "code",
   "execution_count": 12,
   "metadata": {},
   "outputs": [
    {
     "data": {
      "text/plain": [
       "Text(0.5, 0, '% Churn')"
      ]
     },
     "execution_count": 12,
     "metadata": {},
     "output_type": "execute_result"
    },
    {
     "data": {
      "image/png": "[encoded data removed]",
      "text/plain": [
       "<Figure size 432x288 with 1 Axes>"
      ]
     },
     "metadata": {
      "needs_background": "light"
     },
     "output_type": "display_data"
    }
   ],
   "source": [
    "pd.concat([dftrain, y_train], axis=1).groupby('InternetService').Churn.mean().plot(kind='barh').set_xlabel('% Churn')"
   ]
  },
  {
   "cell_type": "markdown",
   "metadata": {},
   "source": [
    "### Most customers are being provided with an Internet Service (Fiber optic / DSL)\n",
    "### Customers using fiber optic broadband a much higher chance of churning. This is a predictive feature. \n",
    "### Actionable insight: Evidence to suggest customer dissatisfication with this service."
   ]
  },
  {
   "cell_type": "markdown",
   "metadata": {},
   "source": [
    "## Tenure"
   ]
  },
  {
   "cell_type": "code",
   "execution_count": 13,
   "metadata": {},
   "outputs": [
    {
     "data": {
      "text/plain": [
       "<AxesSubplot:>"
      ]
     },
     "execution_count": 13,
     "metadata": {},
     "output_type": "execute_result"
    },
    {
     "data": {
      "image/png": "[encoded data removed]",
      "text/plain": [
       "<Figure size 432x288 with 1 Axes>"
      ]
     },
     "metadata": {
      "needs_background": "light"
     },
     "output_type": "display_data"
    }
   ],
   "source": [
    "dftrain.tenure.hist(bins=20)"
   ]
  },
  {
   "cell_type": "markdown",
   "metadata": {},
   "source": [
    "### Most individuals have been customers for 1-5 years. There are peaks of new customers (tenure = 0) and long term customers (tenure >= 70 months). "
   ]
  },
  {
   "cell_type": "code",
   "execution_count": 14,
   "metadata": {},
   "outputs": [
    {
     "data": {
      "text/plain": [
       "Text(0.5, 0, '% Churn')"
      ]
     },
     "execution_count": 14,
     "metadata": {},
     "output_type": "execute_result"
    },
    {
     "data": {
      "image/png": "[encoded data removed]",
      "text/plain": [
       "<Figure size 432x288 with 1 Axes>"
      ]
     },
     "metadata": {
      "needs_background": "light"
     },
     "output_type": "display_data"
    }
   ],
   "source": [
    "pd.concat([dftrain, y_train], axis=1).groupby('tenure').Churn.mean().plot(kind='line').set_xlabel('% Churn')"
   ]
  },
  {
   "cell_type": "markdown",
   "metadata": {},
   "source": [
    "### The longer an individual has been a customer the less likely they are to churn.\n",
    "### Actionable insight: churn prevention measures should be focused on new customers."
   ]
  },
  {
   "cell_type": "markdown",
   "metadata": {},
   "source": [
    "# Build the linear regression model\n",
    "## Start with a simpler model to establish a benchmark."
   ]
  },
  {
   "cell_type": "markdown",
   "metadata": {},
   "source": [
    "# Create input functions\n",
    "### Use normalisation on numeric features"
   ]
  },
  {
   "cell_type": "code",
   "execution_count": 15,
   "metadata": {},
   "outputs": [],
   "source": [
    "def get_normalization_parameters(df, features):\n",
    "    \"\"\"Get the normalization parameters (E.g., mean, std) for traindf for \n",
    "    features. We will use these parameters for training, eval, and serving.\"\"\"\n",
    "\n",
    "    def _z_score_params(column):\n",
    "        mean = df[column].mean()\n",
    "        std = df[column].std()\n",
    "        return {'mean': mean, 'std': std}\n",
    "\n",
    "    normalization_parameters = {}\n",
    "    for column in features:\n",
    "        normalization_parameters[column] = _z_score_params(column)\n",
    "    return normalization_parameters\n",
    "\n",
    "def _numeric_column_normalized(column_name, normalizer_fn):\n",
    "    return tf.feature_column.numeric_column(column_name, normalizer_fn=normalizer_fn)\n",
    "\n",
    "def make_zscaler(mean, std):\n",
    "    def zscaler(col):\n",
    "        return (col - mean)/std\n",
    "    return zscaler\n",
    "\n",
    "# Define your feature columns\n",
    "def create_feature_cols(features, use_normalization):\n",
    "    \"\"\"Create feature columns using tf.feature_column. \n",
    "    \n",
    "    This function will get executed during training, evaluation, and serving.\"\"\"\n",
    "    def normalize_column(col):  # Use mean, std defined below.\n",
    "        return (col - mean)/std\n",
    "    normalized_feature_columns = []\n",
    "    for column_name in features:\n",
    "        normalizer_fn = None\n",
    "        if use_normalization:\n",
    "            column_params = normalization_parameters[column_name]\n",
    "            mean = column_params['mean']\n",
    "            std = column_params['std']\n",
    "            normalizer_fn = make_zscaler(mean, std)\n",
    "        normalized_feature_columns.append(_numeric_column_normalized(column_name,\n",
    "                                                                     normalizer_fn))\n",
    "    return normalized_feature_columns"
   ]
  },
  {
   "cell_type": "markdown",
   "metadata": {},
   "source": [
    "### source: https://towardsdatascience.com/how-to-normalize-features-in-tensorflow-5b7b0e3a4177"
   ]
  },
  {
   "cell_type": "code",
   "execution_count": 16,
   "metadata": {},
   "outputs": [],
   "source": [
    "def get_normalization_parameters(df, features):\n",
    "    \"\"\"Get the normalization parameters (E.g., mean, std) for traindf for \n",
    "    features. We will use these parameters for training, eval, and serving.\"\"\"\n",
    "\n",
    "    def _z_score_params(column):\n",
    "        mean = df[column].mean()\n",
    "        std = df[column].std()\n",
    "        return {'mean': mean, 'std': std}\n",
    "\n",
    "    normalization_parameters = {}\n",
    "    for column in features:\n",
    "        normalization_parameters[column] = _z_score_params(column)\n",
    "    return normalization_parameters\n",
    "\n",
    "def _numeric_column_normalized(column_name, normalizer_fn):\n",
    "    return tf.feature_column.numeric_column(column_name, normalizer_fn=normalizer_fn)\n",
    "\n",
    "def make_zscaler(mean, std):\n",
    "    def zscaler(col):\n",
    "        return (col - mean)/std\n",
    "    return zscaler\n",
    "\n",
    "# Define your feature columns\n",
    "def create_feature_cols(features, use_normalization):\n",
    "    \"\"\"Create feature columns using tf.feature_column. \n",
    "    \n",
    "    This function will get executed during training, evaluation, and serving.\"\"\"\n",
    "    def normalize_column(col):  # Use mean, std defined below.\n",
    "        return (col - mean)/std\n",
    "    normalized_feature_columns = []\n",
    "    for column_name in features:\n",
    "        normalizer_fn = None\n",
    "        if use_normalization:\n",
    "            column_params = normalization_parameters[column_name]\n",
    "            mean = column_params['mean']\n",
    "            std = column_params['std']\n",
    "            normalizer_fn = make_zscaler(mean, std)\n",
    "        normalized_feature_columns.append(_numeric_column_normalized(column_name,\n",
    "                                                                     normalizer_fn))\n",
    "    return normalized_feature_columns"
   ]
  },
  {
   "cell_type": "code",
   "execution_count": 17,
   "metadata": {},
   "outputs": [
    {
     "data": {
      "text/plain": [
       "gender               object\n",
       "SeniorCitizen         int64\n",
       "Partner               int64\n",
       "Dependents            int64\n",
       "tenure                int64\n",
       "PhoneService          int64\n",
       "MultipleLines         int64\n",
       "InternetService      object\n",
       "OnlineSecurity        int64\n",
       "OnlineBackup          int64\n",
       "DeviceProtection      int64\n",
       "TechSupport           int64\n",
       "StreamingTV           int64\n",
       "StreamingMovies       int64\n",
       "Contract             object\n",
       "PaperlessBilling      int64\n",
       "PaymentMethod        object\n",
       "MonthlyCharges      float64\n",
       "TotalCharges        float64\n",
       "dtype: object"
      ]
     },
     "execution_count": 17,
     "metadata": {},
     "output_type": "execute_result"
    }
   ],
   "source": [
    "dftrain.dtypes"
   ]
  },
  {
   "cell_type": "code",
   "execution_count": 18,
   "metadata": {
    "scrolled": true
   },
   "outputs": [],
   "source": [
    "# Defining feature columns\n",
    "CATEGORICAL_COLUMNS = [ 'gender','InternetService','Contract', 'PaymentMethod']\n",
    "NUMERIC_COLUMNS = ['tenure','MonthlyCharges', 'TotalCharges']\n",
    "\n",
    "BINARY_COLUMNS = ['SeniorCitizen', 'Partner', 'Dependents', 'PhoneService', 'MultipleLines','OnlineBackup',\n",
    "                    'DeviceProtection', 'TechSupport', 'StreamingTV', 'StreamingMovies','PaperlessBilling']\n",
    "\n",
    "normalization_parameters = get_normalization_parameters(df, NUMERIC_COLUMNS)\n",
    "feature_columns = create_feature_cols(NUMERIC_COLUMNS, use_normalization=True)\n",
    "\n",
    "for feature_name in CATEGORICAL_COLUMNS:\n",
    "  vocabulary = dftrain[feature_name].unique()\n",
    "  feature_columns.append(tf.feature_column.categorical_column_with_vocabulary_list(feature_name, vocabulary))\n",
    "    \n",
    "for feature_name in BINARY_COLUMNS:\n",
    "  feature_columns.append(tf.feature_column.numeric_column(feature_name, dtype=tf.float64))"
   ]
  },
  {
   "cell_type": "code",
   "execution_count": 19,
   "metadata": {},
   "outputs": [],
   "source": [
    "def make_input_fn(data_df, label_df, num_epochs=10, shuffle=True, batch_size=32):\n",
    "  def input_function():\n",
    "    ds = tf.data.Dataset.from_tensor_slices((dict(data_df), label_df))\n",
    "    if shuffle:\n",
    "      ds = ds.shuffle(1000)\n",
    "    ds = ds.batch(batch_size).repeat(num_epochs)\n",
    "    return ds\n",
    "  return input_function\n",
    "\n",
    "train_input_fn = make_input_fn(dftrain, y_train)\n",
    "eval_input_fn = make_input_fn(dfeval, y_eval, num_epochs=1, shuffle=False)"
   ]
  },
  {
   "cell_type": "markdown",
   "metadata": {},
   "source": [
    "# Train and evaluate the linear regression model"
   ]
  },
  {
   "cell_type": "code",
   "execution_count": 20,
   "metadata": {},
   "outputs": [
    {
     "name": "stdout",
     "output_type": "stream",
     "text": [
      "accuracy                   0.792051\n",
      "accuracy_baseline          0.717530\n",
      "auc                        0.852429\n",
      "auc_precision_recall       0.679905\n",
      "average_loss               0.419724\n",
      "label/mean                 0.282470\n",
      "loss                       0.414616\n",
      "precision                  0.665615\n",
      "prediction/mean            0.262676\n",
      "recall                     0.530151\n",
      "global_step             1770.000000\n",
      "dtype: float64\n"
     ]
    }
   ],
   "source": [
    "linear_est = tf.estimator.LinearClassifier(feature_columns=feature_columns)\n",
    "linear_est.train(train_input_fn)\n",
    "result = linear_est.evaluate(eval_input_fn)\n",
    "\n",
    "clear_output()\n",
    "print(pd.Series(result))"
   ]
  },
  {
   "cell_type": "markdown",
   "metadata": {},
   "source": [
    "## This model has an accuracy of 79%"
   ]
  },
  {
   "cell_type": "code",
   "execution_count": 21,
   "metadata": {},
   "outputs": [
    {
     "name": "stdout",
     "output_type": "stream",
     "text": [
      "INFO:tensorflow:Calling model_fn.\n",
      "WARNING:tensorflow:Layer linear/linear_model is casting an input tensor from dtype float64 to the layer's dtype of float32, which is new behavior in TensorFlow 2.  The layer has dtype float32 because its dtype defaults to floatx.\n",
      "\n",
      "If you intended to run this layer in float32, you can safely ignore this warning. If in doubt, this warning is likely only an issue if you are porting a TensorFlow 1.X model to TensorFlow 2.\n",
      "\n",
      "To change all layers to have dtype float64 by default, call `tf.keras.backend.set_floatx('float64')`. To change just this layer, pass dtype='float64' to the layer constructor. If you are the author of this layer, you can disable autocasting by passing autocast=False to the base Layer constructor.\n",
      "\n",
      "INFO:tensorflow:Done calling model_fn.\n",
      "INFO:tensorflow:Graph was finalized.\n",
      "INFO:tensorflow:Restoring parameters from /tmp/tmpkcyxap5x/model.ckpt-1770\n",
      "INFO:tensorflow:Running local_init_op.\n",
      "INFO:tensorflow:Done running local_init_op.\n"
     ]
    },
    {
     "data": {
      "text/plain": [
       "<AxesSubplot:title={'center':'predicted probabilities'}, ylabel='Frequency'>"
      ]
     },
     "execution_count": 21,
     "metadata": {},
     "output_type": "execute_result"
    },
    {
     "data": {
      "image/png": "[encoded data removed]",
      "text/plain": [
       "<Figure size 432x288 with 1 Axes>"
      ]
     },
     "metadata": {
      "needs_background": "light"
     },
     "output_type": "display_data"
    }
   ],
   "source": [
    "pred_dicts = list(linear_est.predict(eval_input_fn))\n",
    "probs = pd.Series([pred['probabilities'][1] for pred in pred_dicts])\n",
    "\n",
    "probs.plot(kind='hist', bins=20, title='predicted probabilities')"
   ]
  },
  {
   "cell_type": "markdown",
   "metadata": {},
   "source": [
    "## Most customers in the eval dataset are predicted to not churn\n",
    "## The AUC score is also high at 85%"
   ]
  },
  {
   "cell_type": "code",
   "execution_count": 22,
   "metadata": {},
   "outputs": [
    {
     "data": {
      "text/plain": [
       "(0.0, 1.05)"
      ]
     },
     "execution_count": 22,
     "metadata": {},
     "output_type": "execute_result"
    },
    {
     "data": {
      "image/png": "[encoded data removed]",
      "text/plain": [
       "<Figure size 432x288 with 1 Axes>"
      ]
     },
     "metadata": {
      "needs_background": "light"
     },
     "output_type": "display_data"
    }
   ],
   "source": [
    "fpr, tpr, _ = roc_curve(y_eval, probs)\n",
    "plt.plot(fpr, tpr)\n",
    "plt.title('ROC curve')\n",
    "plt.xlabel('false positive rate')\n",
    "plt.ylabel('true positive rate')\n",
    "plt.xlim(0,)\n",
    "plt.ylim(0,)\n"
   ]
  },
  {
   "cell_type": "markdown",
   "metadata": {},
   "source": [
    "### The ROC curve indicates a good tradeoff between the true positive rate and false positive rate."
   ]
  },
  {
   "cell_type": "markdown",
   "metadata": {},
   "source": [
    "# Build the decision tree model\n",
    "### This dataset is a binary classification model with multiple features. The BoostedTrees algorithm in the TensorFlow api is a good candidate solution"
   ]
  },
  {
   "cell_type": "code",
   "execution_count": 23,
   "metadata": {},
   "outputs": [
    {
     "name": "stdout",
     "output_type": "stream",
     "text": [
      "accuracy                4.996451e-01\n",
      "accuracy_baseline       7.175301e-01\n",
      "auc                     4.868034e-01\n",
      "auc_precision_recall    4.409118e-01\n",
      "average_loss            1.033305e+10\n",
      "label/mean              2.824698e-01\n",
      "loss                    1.011061e+10\n",
      "precision               2.712370e-01\n",
      "prediction/mean         4.762243e-01\n",
      "recall                  4.572864e-01\n",
      "global_step             6.000000e+02\n",
      "dtype: float64\n"
     ]
    }
   ],
   "source": [
    "# Since data fits into memory, use entire dataset per layer. It will be faster.\n",
    "# Above one batch is defined as the entire dataset.\n",
    "n_batches = 1\n",
    "est = tf.estimator.BoostedTreesClassifier(feature_columns,n_batches_per_layer=n_batches)\n",
    "\n",
    "# The model will stop training once the specified number of trees is built, not\n",
    "# based on the number of steps.\n",
    "est.train(train_input_fn)\n",
    "\n",
    "# Eval.\n",
    "result = est.evaluate(eval_input_fn)\n",
    "clear_output()\n",
    "print(pd.Series(result))"
   ]
  },
  {
   "cell_type": "markdown",
   "metadata": {},
   "source": [
    "## This model only has an accuracy of 50%, which is approximately a coin flip"
   ]
  },
  {
   "cell_type": "code",
   "execution_count": 24,
   "metadata": {},
   "outputs": [
    {
     "name": "stdout",
     "output_type": "stream",
     "text": [
      "INFO:tensorflow:Calling model_fn.\n",
      "INFO:tensorflow:Done calling model_fn.\n",
      "INFO:tensorflow:Graph was finalized.\n",
      "INFO:tensorflow:Restoring parameters from /tmp/tmp74fjs774/model.ckpt-600\n",
      "INFO:tensorflow:Running local_init_op.\n",
      "INFO:tensorflow:Done running local_init_op.\n"
     ]
    },
    {
     "data": {
      "image/png": "[encoded data removed]",
      "text/plain": [
       "<Figure size 432x288 with 1 Axes>"
      ]
     },
     "metadata": {
      "needs_background": "light"
     },
     "output_type": "display_data"
    }
   ],
   "source": [
    "pred_dicts = list(est.predict(eval_input_fn))\n",
    "probs = pd.Series([pred['probabilities'][1] for pred in pred_dicts])\n",
    "\n",
    "probs.plot(kind='hist', bins=20, title='predicted probabilities')\n",
    "plt.show()\n"
   ]
  },
  {
   "cell_type": "code",
   "execution_count": 25,
   "metadata": {},
   "outputs": [
    {
     "data": {
      "image/png": "[encoded data removed]",
      "text/plain": [
       "<Figure size 432x288 with 1 Axes>"
      ]
     },
     "metadata": {
      "needs_background": "light"
     },
     "output_type": "display_data"
    }
   ],
   "source": [
    "fpr, tpr, _ = roc_curve(y_eval, probs)\n",
    "plt.plot(fpr, tpr)\n",
    "plt.title('ROC curve')\n",
    "plt.xlabel('false positive rate')\n",
    "plt.ylabel('true positive rate')\n",
    "plt.xlim(0,)\n",
    "plt.ylim(0,)\n",
    "plt.show()\n"
   ]
  },
  {
   "cell_type": "markdown",
   "metadata": {},
   "source": [
    "## The BoostedTree algorithm performed much worse than the Linear Regression."
   ]
  },
  {
   "cell_type": "markdown",
   "metadata": {},
   "source": [
    "# Use feature selection to improve the model's accuracy\n",
    "## In the feature selection notebook it was determined that the features tenure, InternetService, Contract, and MonthlyCharges are important  \n",
    "### Retrain the model using only these features "
   ]
  },
  {
   "cell_type": "code",
   "execution_count": 26,
   "metadata": {},
   "outputs": [],
   "source": [
    "# Defining feature columns\n",
    "CATEGORICAL_COLUMNS = [ 'InternetService','Contract']\n",
    "NUMERIC_COLUMNS = ['tenure','MonthlyCharges']\n",
    "\n",
    "normalization_parameters = get_normalization_parameters(df, NUMERIC_COLUMNS)\n",
    "feature_columns = create_feature_cols(NUMERIC_COLUMNS, use_normalization=True)\n",
    "\n",
    "for feature_name in CATEGORICAL_COLUMNS:\n",
    "  vocabulary = dftrain[feature_name].unique()\n",
    "  feature_columns.append(tf.feature_column.categorical_column_with_vocabulary_list(feature_name, vocabulary))\n",
    "    \n",
    "train_input_fn = make_input_fn(dftrain, y_train)\n",
    "eval_input_fn = make_input_fn(dfeval, y_eval, num_epochs=1, shuffle=False)"
   ]
  },
  {
   "cell_type": "markdown",
   "metadata": {},
   "source": [
    "### Revised Linear Regression Model\n",
    "### Accuracy is similar at 78%, but the model is more generalised and less likely to suffer from overfitting"
   ]
  },
  {
   "cell_type": "code",
   "execution_count": 27,
   "metadata": {},
   "outputs": [
    {
     "name": "stdout",
     "output_type": "stream",
     "text": [
      "accuracy                   0.784244\n",
      "accuracy_baseline          0.717530\n",
      "auc                        0.845193\n",
      "auc_precision_recall       0.662326\n",
      "average_loss               0.430734\n",
      "label/mean                 0.282470\n",
      "loss                       0.423578\n",
      "precision                  0.663194\n",
      "prediction/mean            0.255804\n",
      "recall                     0.479899\n",
      "global_step             1770.000000\n",
      "dtype: float64\n"
     ]
    }
   ],
   "source": [
    "linear_est = tf.estimator.LinearClassifier(feature_columns=feature_columns)\n",
    "linear_est.train(train_input_fn)\n",
    "result = linear_est.evaluate(eval_input_fn)\n",
    "\n",
    "clear_output()\n",
    "print(pd.Series(result))"
   ]
  },
  {
   "cell_type": "markdown",
   "metadata": {},
   "source": [
    "### Revised BoostedTree model\n",
    "### Accuracy is improved to 68% with dimension reduction "
   ]
  },
  {
   "cell_type": "code",
   "execution_count": 28,
   "metadata": {},
   "outputs": [
    {
     "name": "stdout",
     "output_type": "stream",
     "text": [
      "accuracy                6.884315e-01\n",
      "accuracy_baseline       7.175301e-01\n",
      "auc                     6.579659e-01\n",
      "auc_precision_recall    5.820296e-01\n",
      "average_loss            3.456145e+10\n",
      "label/mean              2.824698e-01\n",
      "loss                    3.381742e+10\n",
      "precision               4.597250e-01\n",
      "prediction/mean         3.612491e-01\n",
      "recall                  5.879397e-01\n",
      "global_step             6.000000e+02\n",
      "dtype: float64\n"
     ]
    }
   ],
   "source": [
    "# Since data fits into memory, use entire dataset per layer. It will be faster.\n",
    "# Above one batch is defined as the entire dataset.\n",
    "n_batches = 1\n",
    "est = tf.estimator.BoostedTreesClassifier(feature_columns,n_batches_per_layer=n_batches)\n",
    "\n",
    "# The model will stop training once the specified number of trees is built, not\n",
    "# based on the number of steps.\n",
    "est.train(train_input_fn)\n",
    "\n",
    "# Eval.\n",
    "result = est.evaluate(eval_input_fn)\n",
    "clear_output()\n",
    "print(pd.Series(result))"
   ]
  },
  {
   "cell_type": "markdown",
   "metadata": {},
   "source": [
    "## Further improve accuracy (to 77%) by increasing the number of trees created and/or by varying the maximum allowed depth of the decision trees"
   ]
  },
  {
   "cell_type": "code",
   "execution_count": 30,
   "metadata": {},
   "outputs": [
    {
     "data": {
      "text/html": [
       "<div>\n",
       "<style scoped>\n",
       "    .dataframe tbody tr th:only-of-type {\n",
       "        vertical-align: middle;\n",
       "    }\n",
       "\n",
       "    .dataframe tbody tr th {\n",
       "        vertical-align: top;\n",
       "    }\n",
       "\n",
       "    .dataframe thead th {\n",
       "        text-align: right;\n",
       "    }\n",
       "</style>\n",
       "<table border=\"1\" class=\"dataframe\">\n",
       "  <thead>\n",
       "    <tr style=\"text-align: right;\">\n",
       "      <th></th>\n",
       "      <th>0</th>\n",
       "    </tr>\n",
       "  </thead>\n",
       "  <tbody>\n",
       "    <tr>\n",
       "      <th>accuracy</th>\n",
       "      <td>0.773598</td>\n",
       "    </tr>\n",
       "    <tr>\n",
       "      <th>accuracy_baseline</th>\n",
       "      <td>0.717530</td>\n",
       "    </tr>\n",
       "    <tr>\n",
       "      <th>auc</th>\n",
       "      <td>0.822515</td>\n",
       "    </tr>\n",
       "    <tr>\n",
       "      <th>auc_precision_recall</th>\n",
       "      <td>0.645850</td>\n",
       "    </tr>\n",
       "    <tr>\n",
       "      <th>average_loss</th>\n",
       "      <td>0.448615</td>\n",
       "    </tr>\n",
       "    <tr>\n",
       "      <th>label/mean</th>\n",
       "      <td>0.282470</td>\n",
       "    </tr>\n",
       "    <tr>\n",
       "      <th>loss</th>\n",
       "      <td>0.446851</td>\n",
       "    </tr>\n",
       "    <tr>\n",
       "      <th>precision</th>\n",
       "      <td>0.627832</td>\n",
       "    </tr>\n",
       "    <tr>\n",
       "      <th>prediction/mean</th>\n",
       "      <td>0.298439</td>\n",
       "    </tr>\n",
       "    <tr>\n",
       "      <th>recall</th>\n",
       "      <td>0.487437</td>\n",
       "    </tr>\n",
       "    <tr>\n",
       "      <th>global_step</th>\n",
       "      <td>50.000000</td>\n",
       "    </tr>\n",
       "  </tbody>\n",
       "</table>\n",
       "</div>"
      ],
      "text/plain": [
       "                              0\n",
       "accuracy               0.773598\n",
       "accuracy_baseline      0.717530\n",
       "auc                    0.822515\n",
       "auc_precision_recall   0.645850\n",
       "average_loss           0.448615\n",
       "label/mean             0.282470\n",
       "loss                   0.446851\n",
       "precision              0.627832\n",
       "prediction/mean        0.298439\n",
       "recall                 0.487437\n",
       "global_step           50.000000"
      ]
     },
     "execution_count": 30,
     "metadata": {},
     "output_type": "execute_result"
    }
   ],
   "source": [
    "params = {\n",
    "  'n_trees': 10, # Default value = 2 \n",
    "  'max_depth': 4,  # Default value = 6 \n",
    "  'n_batches_per_layer': 1,\n",
    "  # You must enable center_bias = True to get DFCs. This will force the model to\n",
    "  # make an initial prediction before using any features (e.g. use the mean of\n",
    "  # the training labels for regression or log odds for classification when\n",
    "  # using cross entropy loss).\n",
    "  'center_bias': True\n",
    "}\n",
    "\n",
    "est = tf.estimator.BoostedTreesClassifier(feature_columns, **params)\n",
    "# Train model.\n",
    "est.train(train_input_fn, max_steps=100)\n",
    "\n",
    "# Evaluation.\n",
    "results = est.evaluate(eval_input_fn)\n",
    "clear_output()\n",
    "pd.Series(results).to_frame()"
   ]
  },
  {
   "cell_type": "markdown",
   "metadata": {},
   "source": [
    "# Insights\n",
    "## The linear regression and (tuned) boosted tree algorithm had similar accuracy in predicting churn."
   ]
  },
  {
   "cell_type": "markdown",
   "metadata": {},
   "source": [
    "# Improvements\n",
    "## 1. Combine addtional service features to calculate the number of subscriptions per customer.\n",
    "## 2. Tune the decision tree further for higher accuracy.\n",
    "## 3. Try other ML algorithms.¶\n"
   ]
  }
 ],
 "metadata": {
  "kernelspec": {
   "display_name": "Python 3",
   "language": "python",
   "name": "python3"
  },
  "language_info": {
   "codemirror_mode": {
    "name": "ipython",
    "version": 3
   },
   "file_extension": ".py",
   "mimetype": "text/x-python",
   "name": "python",
   "nbconvert_exporter": "python",
   "pygments_lexer": "ipython3",
   "version": "3.6.9"
  }
 },
 "nbformat": 4,
 "nbformat_minor": 2
}
